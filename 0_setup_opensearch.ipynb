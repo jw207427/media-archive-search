{
 "cells": [
  {
   "cell_type": "code",
   "execution_count": 1,
   "id": "4413c9dc-90e6-4eea-9d6a-6f26873d6c56",
   "metadata": {},
   "outputs": [],
   "source": [
    "!pip install -Uq opensearch-py"
   ]
  },
  {
   "cell_type": "markdown",
   "id": "8f4d7160-341e-4a29-a301-02c2effdaaf3",
   "metadata": {},
   "source": [
    "### > initialize opensearch"
   ]
  },
  {
   "cell_type": "code",
   "execution_count": 16,
   "id": "fa75eaf7-7c99-49f2-8057-e2d67ee60917",
   "metadata": {},
   "outputs": [
    {
     "name": "stdout",
     "output_type": "stream",
     "text": [
      "Index name: mm-search-2024-03-31-15-48-41-887\n"
     ]
    }
   ],
   "source": [
    "from code_dir.opensearch_util import create_opensearch_collection, create_index\n",
    "import sagemaker\n",
    "from sagemaker.utils import name_from_base\n",
    "import boto3\n",
    "import json\n",
    "\n",
    "sagemaker_session = sagemaker.Session()\n",
    "\n",
    "bucket = sagemaker_session.default_bucket()\n",
    "region = sagemaker_session._region_name\n",
    "\n",
    "index_name = name_from_base(\"mm-search\")\n",
    "\n",
    "print(f\"Index name: {index_name}\")"
   ]
  },
  {
   "cell_type": "markdown",
   "id": "41d1a2bb-68ac-4b77-8d2c-370557ff8dd1",
   "metadata": {},
   "source": [
    "### > Create new Opeansearch collection\n",
    "\n",
    "Uncomment if you need to create new collection"
   ]
  },
  {
   "cell_type": "code",
   "execution_count": 3,
   "id": "af63a8e4-ca3a-4227-abfb-bad816fa9b1b",
   "metadata": {},
   "outputs": [
    {
     "name": "stdout",
     "output_type": "stream",
     "text": [
      "mm-search-2024-03-30-23-\n"
     ]
    }
   ],
   "source": [
    "# vector_store_name = name_from_base(index_name)[:24]\n",
    "# index_name = f\"{vector_store_name}-index\"\n",
    "# encryption_policy_name = f\"{vector_store_name}-ep\"\n",
    "# network_policy_name = f\"{vector_store_name}-np\"\n",
    "# access_policy_name = f\"{vector_store_name}-ap\"\n",
    "\n",
    "# host = create_opensearch_collection(\n",
    "#         vector_store_name=vector_store_name,\n",
    "#         index_name=index_name,\n",
    "#         encryption_policy_name=encryption_policy_name,\n",
    "#         network_policy_name=network_policy_name,\n",
    "#         access_policy_name=access_policy_name\n",
    "#     )"
   ]
  },
  {
   "cell_type": "code",
   "execution_count": 17,
   "id": "3257a589-62bb-40ba-9fe1-288dc974c783",
   "metadata": {},
   "outputs": [],
   "source": [
    "host = \"1fk47z0pze7baugjoq9g.us-east-1.aoss.amazonaws.com\""
   ]
  },
  {
   "cell_type": "code",
   "execution_count": 18,
   "id": "5a555d8a-0844-4b7b-92e2-74f55b387b1a",
   "metadata": {},
   "outputs": [],
   "source": [
    "from opensearchpy import OpenSearch, RequestsHttpConnection, AWSV4SignerAuth\n",
    "\n",
    "service = 'aoss'\n",
    "credentials = boto3.Session().get_credentials()\n",
    "auth = AWSV4SignerAuth(credentials, region, service)\n",
    "\n",
    "client = OpenSearch(\n",
    "    hosts=[{'host': host, 'port': 443}],\n",
    "    http_auth=auth,\n",
    "    use_ssl=True,\n",
    "    verify_certs=True,\n",
    "    connection_class=RequestsHttpConnection,\n",
    "    pool_maxsize=20\n",
    ")"
   ]
  },
  {
   "cell_type": "markdown",
   "id": "2ab4f516-c6b8-4d8a-a3f3-404da9e75ec3",
   "metadata": {},
   "source": [
    "### > load the index schema"
   ]
  },
  {
   "cell_type": "code",
   "execution_count": 19,
   "id": "c9e9ade6-998a-4053-8cab-7cbd62057a2d",
   "metadata": {},
   "outputs": [],
   "source": [
    "f = open(\"index_mapping.json\", 'r')\n",
    "index_body=json.loads(f.read())"
   ]
  },
  {
   "cell_type": "code",
   "execution_count": 20,
   "id": "d1f9755b-8800-4b03-8ed0-0fb9628e7a18",
   "metadata": {},
   "outputs": [
    {
     "name": "stdout",
     "output_type": "stream",
     "text": [
      "{\n",
      "  \"acknowledged\": true,\n",
      "  \"shards_acknowledged\": true,\n",
      "  \"index\": \"mm-search-2024-03-31-15-48-41-887\"\n",
      "}\n"
     ]
    }
   ],
   "source": [
    "resp = create_index(client, index_name=index_name, index_body=index_body)"
   ]
  },
  {
   "cell_type": "markdown",
   "id": "66d93193-a647-41b8-b9e4-c2ca571b9fd6",
   "metadata": {},
   "source": [
    "### > load movielens index schema"
   ]
  },
  {
   "cell_type": "code",
   "execution_count": 21,
   "id": "308c923c-e4ee-4be8-9e03-fe658725455a",
   "metadata": {},
   "outputs": [
    {
     "name": "stdout",
     "output_type": "stream",
     "text": [
      "Movielens index name: movielens-search-2024-03-31-15-49-25-565\n"
     ]
    }
   ],
   "source": [
    "movielens_index = name_from_base(\"movielens-search\")\n",
    "print(f\"Movielens index name: {movielens_index}\")"
   ]
  },
  {
   "cell_type": "code",
   "execution_count": 22,
   "id": "cf143e6d-a6eb-4045-9e6b-c8a45337f0bb",
   "metadata": {},
   "outputs": [],
   "source": [
    "f = open(\"movielens2_index.json\", 'r')\n",
    "index_body=json.loads(f.read())"
   ]
  },
  {
   "cell_type": "code",
   "execution_count": 23,
   "id": "b7d6f574-0986-4bf5-9d98-849b3dd58bd8",
   "metadata": {},
   "outputs": [
    {
     "name": "stdout",
     "output_type": "stream",
     "text": [
      "{\n",
      "  \"acknowledged\": true,\n",
      "  \"shards_acknowledged\": true,\n",
      "  \"index\": \"movielens-search-2024-03-31-15-49-25-565\"\n",
      "}\n"
     ]
    }
   ],
   "source": [
    "resp = create_index(client, index_name=movielens_index, index_body=index_body)"
   ]
  },
  {
   "cell_type": "markdown",
   "id": "662c54dc-6dd5-4181-87c0-4621ab0ee497",
   "metadata": {},
   "source": [
    "### > store index name for other notebooks"
   ]
  },
  {
   "cell_type": "code",
   "execution_count": 24,
   "id": "2e798a7f-e6ca-485b-96b4-486577ec2e9d",
   "metadata": {},
   "outputs": [
    {
     "name": "stdout",
     "output_type": "stream",
     "text": [
      "Stored 'host' (str)\n",
      "Stored 'index_name' (str)\n",
      "Stored 'movielens_index' (str)\n"
     ]
    }
   ],
   "source": [
    "%store host\n",
    "%store index_name\n",
    "%store movielens_index    "
   ]
  },
  {
   "cell_type": "code",
   "execution_count": 25,
   "id": "a760aa0b-1a8f-40f5-9fb2-625150b42a1a",
   "metadata": {},
   "outputs": [
    {
     "data": {
      "text/plain": [
       "'1fk47z0pze7baugjoq9g.us-east-1.aoss.amazonaws.com'"
      ]
     },
     "execution_count": 25,
     "metadata": {},
     "output_type": "execute_result"
    }
   ],
   "source": [
    "host"
   ]
  },
  {
   "cell_type": "code",
   "execution_count": 26,
   "id": "5f5a48f4-0326-4121-ba69-b6b37063a88b",
   "metadata": {},
   "outputs": [
    {
     "data": {
      "text/plain": [
       "'mm-search-2024-03-31-15-48-41-887'"
      ]
     },
     "execution_count": 26,
     "metadata": {},
     "output_type": "execute_result"
    }
   ],
   "source": [
    "index_name"
   ]
  },
  {
   "cell_type": "code",
   "execution_count": 27,
   "id": "6cb16bb5-7282-4657-b767-e670930f8c01",
   "metadata": {},
   "outputs": [
    {
     "data": {
      "text/plain": [
       "'movielens-search-2024-03-31-15-49-25-565'"
      ]
     },
     "execution_count": 27,
     "metadata": {},
     "output_type": "execute_result"
    }
   ],
   "source": [
    "movielens_index"
   ]
  },
  {
   "cell_type": "code",
   "execution_count": null,
   "id": "3505f4f7-2d56-4128-85c8-1ab34972b8e5",
   "metadata": {},
   "outputs": [],
   "source": []
  },
  {
   "cell_type": "code",
   "execution_count": null,
   "id": "a2a0587a-4f8c-4e2b-8efc-dd39200503ea",
   "metadata": {},
   "outputs": [],
   "source": []
  }
 ],
 "metadata": {
  "kernelspec": {
   "display_name": "conda_pytorch_p310",
   "language": "python",
   "name": "conda_pytorch_p310"
  },
  "language_info": {
   "codemirror_mode": {
    "name": "ipython",
    "version": 3
   },
   "file_extension": ".py",
   "mimetype": "text/x-python",
   "name": "python",
   "nbconvert_exporter": "python",
   "pygments_lexer": "ipython3",
   "version": "3.10.13"
  }
 },
 "nbformat": 4,
 "nbformat_minor": 5
}
