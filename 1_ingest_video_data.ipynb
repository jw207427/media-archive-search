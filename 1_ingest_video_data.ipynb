{
 "cells": [
  {
   "cell_type": "markdown",
   "id": "dbc61d2b-e3c1-48e2-b3d1-0c6793b25243",
   "metadata": {},
   "source": [
    "### > Setup ffmpeg"
   ]
  },
  {
   "cell_type": "code",
   "execution_count": 1,
   "id": "1e77ff9d-f0d2-4961-b9b9-9a9eef1f6c80",
   "metadata": {
    "scrolled": true
   },
   "outputs": [
    {
     "name": "stderr",
     "output_type": "stream",
     "text": [
      "sudo: apt-get: command not found\n",
      "sudo: apt-get: command not found\n"
     ]
    },
    {
     "name": "stdout",
     "output_type": "stream",
     "text": [
      "Requirement already satisfied: sagemaker in /home/ec2-user/anaconda3/envs/pytorch_p310/lib/python3.10/site-packages (2.214.0)\n",
      "Collecting sagemaker\n",
      "  Downloading sagemaker-2.214.1-py3-none-any.whl.metadata (14 kB)\n",
      "Requirement already satisfied: attrs<24,>=23.1.0 in /home/ec2-user/anaconda3/envs/pytorch_p310/lib/python3.10/site-packages (from sagemaker) (23.2.0)\n",
      "Requirement already satisfied: boto3<2.0,>=1.33.3 in /home/ec2-user/anaconda3/envs/pytorch_p310/lib/python3.10/site-packages (from sagemaker) (1.34.69)\n",
      "Requirement already satisfied: cloudpickle==2.2.1 in /home/ec2-user/anaconda3/envs/pytorch_p310/lib/python3.10/site-packages (from sagemaker) (2.2.1)\n",
      "Requirement already satisfied: google-pasta in /home/ec2-user/anaconda3/envs/pytorch_p310/lib/python3.10/site-packages (from sagemaker) (0.2.0)\n",
      "Requirement already satisfied: numpy<2.0,>=1.9.0 in /home/ec2-user/anaconda3/envs/pytorch_p310/lib/python3.10/site-packages (from sagemaker) (1.26.4)\n",
      "Requirement already satisfied: protobuf<5.0,>=3.12 in /home/ec2-user/anaconda3/envs/pytorch_p310/lib/python3.10/site-packages (from sagemaker) (4.25.3)\n",
      "Requirement already satisfied: smdebug-rulesconfig==1.0.1 in /home/ec2-user/anaconda3/envs/pytorch_p310/lib/python3.10/site-packages (from sagemaker) (1.0.1)\n",
      "Requirement already satisfied: importlib-metadata<7.0,>=1.4.0 in /home/ec2-user/anaconda3/envs/pytorch_p310/lib/python3.10/site-packages (from sagemaker) (6.11.0)\n",
      "Requirement already satisfied: packaging>=20.0 in /home/ec2-user/anaconda3/envs/pytorch_p310/lib/python3.10/site-packages (from sagemaker) (21.3)\n",
      "Requirement already satisfied: pandas in /home/ec2-user/anaconda3/envs/pytorch_p310/lib/python3.10/site-packages (from sagemaker) (1.5.3)\n",
      "Requirement already satisfied: pathos in /home/ec2-user/anaconda3/envs/pytorch_p310/lib/python3.10/site-packages (from sagemaker) (0.3.2)\n",
      "Requirement already satisfied: schema in /home/ec2-user/anaconda3/envs/pytorch_p310/lib/python3.10/site-packages (from sagemaker) (0.7.5)\n",
      "Requirement already satisfied: PyYAML~=6.0 in /home/ec2-user/anaconda3/envs/pytorch_p310/lib/python3.10/site-packages (from sagemaker) (6.0.1)\n",
      "Requirement already satisfied: jsonschema in /home/ec2-user/anaconda3/envs/pytorch_p310/lib/python3.10/site-packages (from sagemaker) (4.21.1)\n",
      "Requirement already satisfied: platformdirs in /home/ec2-user/anaconda3/envs/pytorch_p310/lib/python3.10/site-packages (from sagemaker) (4.2.0)\n",
      "Requirement already satisfied: tblib<4,>=1.7.0 in /home/ec2-user/anaconda3/envs/pytorch_p310/lib/python3.10/site-packages (from sagemaker) (2.0.0)\n",
      "Requirement already satisfied: urllib3<3.0.0,>=1.26.8 in /home/ec2-user/anaconda3/envs/pytorch_p310/lib/python3.10/site-packages (from sagemaker) (1.26.18)\n",
      "Requirement already satisfied: requests in /home/ec2-user/anaconda3/envs/pytorch_p310/lib/python3.10/site-packages (from sagemaker) (2.31.0)\n",
      "Requirement already satisfied: docker in /home/ec2-user/anaconda3/envs/pytorch_p310/lib/python3.10/site-packages (from sagemaker) (6.1.3)\n",
      "Requirement already satisfied: tqdm in /home/ec2-user/anaconda3/envs/pytorch_p310/lib/python3.10/site-packages (from sagemaker) (4.66.2)\n",
      "Requirement already satisfied: psutil in /home/ec2-user/anaconda3/envs/pytorch_p310/lib/python3.10/site-packages (from sagemaker) (5.9.8)\n",
      "Requirement already satisfied: botocore<1.35.0,>=1.34.69 in /home/ec2-user/anaconda3/envs/pytorch_p310/lib/python3.10/site-packages (from boto3<2.0,>=1.33.3->sagemaker) (1.34.69)\n",
      "Requirement already satisfied: jmespath<2.0.0,>=0.7.1 in /home/ec2-user/anaconda3/envs/pytorch_p310/lib/python3.10/site-packages (from boto3<2.0,>=1.33.3->sagemaker) (1.0.1)\n",
      "Requirement already satisfied: s3transfer<0.11.0,>=0.10.0 in /home/ec2-user/anaconda3/envs/pytorch_p310/lib/python3.10/site-packages (from boto3<2.0,>=1.33.3->sagemaker) (0.10.0)\n",
      "Requirement already satisfied: zipp>=0.5 in /home/ec2-user/anaconda3/envs/pytorch_p310/lib/python3.10/site-packages (from importlib-metadata<7.0,>=1.4.0->sagemaker) (3.17.0)\n",
      "Requirement already satisfied: pyparsing!=3.0.5,>=2.0.2 in /home/ec2-user/anaconda3/envs/pytorch_p310/lib/python3.10/site-packages (from packaging>=20.0->sagemaker) (3.1.1)\n",
      "Requirement already satisfied: websocket-client>=0.32.0 in /home/ec2-user/anaconda3/envs/pytorch_p310/lib/python3.10/site-packages (from docker->sagemaker) (1.7.0)\n",
      "Requirement already satisfied: charset-normalizer<4,>=2 in /home/ec2-user/anaconda3/envs/pytorch_p310/lib/python3.10/site-packages (from requests->sagemaker) (3.3.2)\n",
      "Requirement already satisfied: idna<4,>=2.5 in /home/ec2-user/anaconda3/envs/pytorch_p310/lib/python3.10/site-packages (from requests->sagemaker) (3.6)\n",
      "Requirement already satisfied: certifi>=2017.4.17 in /home/ec2-user/anaconda3/envs/pytorch_p310/lib/python3.10/site-packages (from requests->sagemaker) (2024.2.2)\n",
      "Requirement already satisfied: six in /home/ec2-user/anaconda3/envs/pytorch_p310/lib/python3.10/site-packages (from google-pasta->sagemaker) (1.16.0)\n",
      "Requirement already satisfied: jsonschema-specifications>=2023.03.6 in /home/ec2-user/anaconda3/envs/pytorch_p310/lib/python3.10/site-packages (from jsonschema->sagemaker) (2023.12.1)\n",
      "Requirement already satisfied: referencing>=0.28.4 in /home/ec2-user/anaconda3/envs/pytorch_p310/lib/python3.10/site-packages (from jsonschema->sagemaker) (0.33.0)\n",
      "Requirement already satisfied: rpds-py>=0.7.1 in /home/ec2-user/anaconda3/envs/pytorch_p310/lib/python3.10/site-packages (from jsonschema->sagemaker) (0.18.0)\n",
      "Requirement already satisfied: python-dateutil>=2.8.1 in /home/ec2-user/anaconda3/envs/pytorch_p310/lib/python3.10/site-packages (from pandas->sagemaker) (2.8.2)\n",
      "Requirement already satisfied: pytz>=2020.1 in /home/ec2-user/anaconda3/envs/pytorch_p310/lib/python3.10/site-packages (from pandas->sagemaker) (2024.1)\n",
      "Requirement already satisfied: ppft>=1.7.6.8 in /home/ec2-user/anaconda3/envs/pytorch_p310/lib/python3.10/site-packages (from pathos->sagemaker) (1.7.6.8)\n",
      "Requirement already satisfied: dill>=0.3.8 in /home/ec2-user/anaconda3/envs/pytorch_p310/lib/python3.10/site-packages (from pathos->sagemaker) (0.3.8)\n",
      "Requirement already satisfied: pox>=0.3.4 in /home/ec2-user/anaconda3/envs/pytorch_p310/lib/python3.10/site-packages (from pathos->sagemaker) (0.3.4)\n",
      "Requirement already satisfied: multiprocess>=0.70.16 in /home/ec2-user/anaconda3/envs/pytorch_p310/lib/python3.10/site-packages (from pathos->sagemaker) (0.70.16)\n",
      "Requirement already satisfied: contextlib2>=0.5.5 in /home/ec2-user/anaconda3/envs/pytorch_p310/lib/python3.10/site-packages (from schema->sagemaker) (21.6.0)\n",
      "Downloading sagemaker-2.214.1-py3-none-any.whl (1.4 MB)\n",
      "\u001b[2K   \u001b[90m━━━━━━━━━━━━━━━━━━━━━━━━━━━━━━━━━━━━━━━━\u001b[0m \u001b[32m1.4/1.4 MB\u001b[0m \u001b[31m17.7 MB/s\u001b[0m eta \u001b[36m0:00:00\u001b[0m:00:01\u001b[0m\n",
      "\u001b[?25hInstalling collected packages: sagemaker\n",
      "  Attempting uninstall: sagemaker\n",
      "    Found existing installation: sagemaker 2.214.0\n",
      "    Uninstalling sagemaker-2.214.0:\n",
      "      Successfully uninstalled sagemaker-2.214.0\n",
      "Successfully installed sagemaker-2.214.1\n"
     ]
    }
   ],
   "source": [
    "%%sh\n",
    "sudo apt-get update && sudo apt upgrade -y\n",
    "\n",
    "sudo apt-get install ffmpeg -y\n",
    "\n",
    "pip install -U sagemaker"
   ]
  },
  {
   "cell_type": "markdown",
   "id": "fd7f4856-0ddb-4874-8061-d801d3fd5b2d",
   "metadata": {},
   "source": [
    "### > Initialize parameters"
   ]
  },
  {
   "cell_type": "code",
   "execution_count": 19,
   "id": "699cdf9e-b99d-467c-a095-4ff802a14f77",
   "metadata": {},
   "outputs": [
    {
     "name": "stdout",
     "output_type": "stream",
     "text": [
      "Opensearch hosting url: 1fk47z0pze7baugjoq9g.us-east-1.aoss.amazonaws.com\n",
      "Opensearch index name: mm-search-2024-03-31-15-48-41-887\n"
     ]
    }
   ],
   "source": [
    "import boto3\n",
    "import sagemaker\n",
    "from sagemaker.utils import name_from_base\n",
    "import shutil\n",
    "import os\n",
    "\n",
    "sagemaker_session = sagemaker.Session()\n",
    "\n",
    "bucket = sagemaker_session.default_bucket()\n",
    "region = sagemaker_session._region_name\n",
    "\n",
    "prefix = \"multi-modal-search\"\n",
    "\n",
    "s3_client = boto3.client('s3')\n",
    "\n",
    "video_dir = 'videos' # BigBuckBunny.mp4' #TearsOfSteel.mp4'  #\n",
    "\n",
    "# load the host and index_name for opensearch\n",
    "%store -r host\n",
    "%store -r index_name\n",
    "\n",
    "print(f\"Opensearch hosting url: {host}\")\n",
    "print(f\"Opensearch index name: {index_name}\")"
   ]
  },
  {
   "cell_type": "markdown",
   "id": "83494a48-1d6e-44b0-b2de-d7f3e7abeaa7",
   "metadata": {},
   "source": [
    "### > download and setup videos"
   ]
  },
  {
   "cell_type": "code",
   "execution_count": 3,
   "id": "9d6a566d-7775-487e-ba10-049d2dba90f5",
   "metadata": {},
   "outputs": [],
   "source": [
    "if os.path.exists(video_dir):\n",
    "    # Remove existing folder\n",
    "    shutil.rmtree(video_dir)\n",
    "    \n",
    "# Create new folder\n",
    "os.makedirs(video_dir)"
   ]
  },
  {
   "cell_type": "code",
   "execution_count": 4,
   "id": "8b2f4c0c-0aaa-41da-bb37-ecc36880c85d",
   "metadata": {},
   "outputs": [],
   "source": [
    "videos=[\n",
    "    # “Shooting in motion for a football player”\n",
    "    \"https://d286ovwbajn9p7.cloudfront.net/AdobeStock_161973588.mov\",\n",
    "    # “Race to the Cloud”\n",
    "    \"https://d286ovwbajn9p7.cloudfront.net/RaceToTheCloud_444_PR_M_040623-FINAL_264.mp4\",\n",
    "    # \"Picchu\"\n",
    "    \"https://d286ovwbajn9p7.cloudfront.net/aws-picchu-edit-rendered.mp4\",\n",
    "    # \"AWS España Ya disponible\"\n",
    "    \"https://d286ovwbajn9p7.cloudfront.net/AWS_Espa%C3%B1a_Ya%20disponible.mp4\",\n",
    "    # \"Christmas fire\"\n",
    "    \"https://d286ovwbajn9p7.cloudfront.net/AdobeStock_384597062.mov\",\n",
    "    # \"westiepoo\"\n",
    "    \"https://d2yqlwoly7fl0b.cloudfront.net/super-slomo/samples/westiepoo.mov\",\n",
    "]"
   ]
  },
  {
   "cell_type": "code",
   "execution_count": 5,
   "id": "3d512f88-e087-44fa-baae-b9d60b34e449",
   "metadata": {
    "scrolled": true
   },
   "outputs": [
    {
     "name": "stdout",
     "output_type": "stream",
     "text": [
      "https://d286ovwbajn9p7.cloudfront.net/AdobeStock_161973588.mov\n",
      "--2024-03-30 23:49:55--  https://d286ovwbajn9p7.cloudfront.net/AdobeStock_161973588.mov\n",
      "Resolving d286ovwbajn9p7.cloudfront.net (d286ovwbajn9p7.cloudfront.net)... 3.162.93.55, 3.162.93.167, 3.162.93.143, ...\n",
      "Connecting to d286ovwbajn9p7.cloudfront.net (d286ovwbajn9p7.cloudfront.net)|3.162.93.55|:443... connected.\n",
      "HTTP request sent, awaiting response... 200 OK\n",
      "Length: 21564633 (21M) [video/quicktime]\n",
      "Saving to: ‘AdobeStock_161973588.mov’\n",
      "\n",
      "100%[======================================>] 21,564,633   103MB/s   in 0.2s   \n",
      "\n",
      "2024-03-30 23:49:55 (103 MB/s) - ‘AdobeStock_161973588.mov’ saved [21564633/21564633]\n",
      "\n",
      "https://d286ovwbajn9p7.cloudfront.net/RaceToTheCloud_444_PR_M_040623-FINAL_264.mp4\n",
      "--2024-03-30 23:49:55--  https://d286ovwbajn9p7.cloudfront.net/RaceToTheCloud_444_PR_M_040623-FINAL_264.mp4\n",
      "Resolving d286ovwbajn9p7.cloudfront.net (d286ovwbajn9p7.cloudfront.net)... 3.162.93.218, 3.162.93.143, 3.162.93.167, ...\n",
      "Connecting to d286ovwbajn9p7.cloudfront.net (d286ovwbajn9p7.cloudfront.net)|3.162.93.218|:443... connected.\n",
      "HTTP request sent, awaiting response... 200 OK\n",
      "Length: 537364528 (512M) [video/mp4]\n",
      "Saving to: ‘RaceToTheCloud_444_PR_M_040623-FINAL_264.mp4’\n",
      "\n",
      "100%[======================================>] 537,364,528 71.9MB/s   in 7.1s   \n",
      "\n",
      "2024-03-30 23:50:03 (72.3 MB/s) - ‘RaceToTheCloud_444_PR_M_040623-FINAL_264.mp4’ saved [537364528/537364528]\n",
      "\n",
      "https://d286ovwbajn9p7.cloudfront.net/aws-picchu-edit-rendered.mp4\n",
      "--2024-03-30 23:50:03--  https://d286ovwbajn9p7.cloudfront.net/aws-picchu-edit-rendered.mp4\n",
      "Resolving d286ovwbajn9p7.cloudfront.net (d286ovwbajn9p7.cloudfront.net)... 3.162.93.55, 3.162.93.218, 3.162.93.143, ...\n",
      "Connecting to d286ovwbajn9p7.cloudfront.net (d286ovwbajn9p7.cloudfront.net)|3.162.93.55|:443... connected.\n",
      "HTTP request sent, awaiting response... 200 OK\n",
      "Length: 2881004985 (2.7G) [video/mp4]\n",
      "Saving to: ‘aws-picchu-edit-rendered.mp4’\n",
      "\n",
      "100%[====================================>] 2,881,004,985 31.0MB/s   in 77s    \n",
      "\n",
      "2024-03-30 23:51:20 (35.5 MB/s) - ‘aws-picchu-edit-rendered.mp4’ saved [2881004985/2881004985]\n",
      "\n",
      "https://d286ovwbajn9p7.cloudfront.net/AWS_Espa%C3%B1a_Ya%20disponible.mp4\n",
      "--2024-03-30 23:51:20--  https://d286ovwbajn9p7.cloudfront.net/AWS_Espa%C3%B1a_Ya%20disponible.mp4\n",
      "Resolving d286ovwbajn9p7.cloudfront.net (d286ovwbajn9p7.cloudfront.net)... 3.162.93.143, 3.162.93.167, 3.162.93.218, ...\n",
      "Connecting to d286ovwbajn9p7.cloudfront.net (d286ovwbajn9p7.cloudfront.net)|3.162.93.143|:443... connected.\n",
      "HTTP request sent, awaiting response... 200 OK\n",
      "Length: 58097070 (55M) [video/mp4]\n",
      "Saving to: ‘AWS_España_Ya disponible.mp4’\n",
      "\n",
      "100%[======================================>] 58,097,070  48.0MB/s   in 1.2s   \n",
      "\n",
      "2024-03-30 23:51:22 (48.0 MB/s) - ‘AWS_España_Ya disponible.mp4’ saved [58097070/58097070]\n",
      "\n",
      "https://d286ovwbajn9p7.cloudfront.net/AdobeStock_384597062.mov\n",
      "--2024-03-30 23:51:22--  https://d286ovwbajn9p7.cloudfront.net/AdobeStock_384597062.mov\n",
      "Resolving d286ovwbajn9p7.cloudfront.net (d286ovwbajn9p7.cloudfront.net)... 3.162.93.55, 3.162.93.218, 3.162.93.167, ...\n",
      "Connecting to d286ovwbajn9p7.cloudfront.net (d286ovwbajn9p7.cloudfront.net)|3.162.93.55|:443... connected.\n",
      "HTTP request sent, awaiting response... 200 OK\n",
      "Length: 580929853 (554M) [video/quicktime]\n",
      "Saving to: ‘AdobeStock_384597062.mov’\n",
      "\n",
      "100%[======================================>] 580,929,853 69.4MB/s   in 7.8s   \n",
      "\n",
      "2024-03-30 23:51:30 (70.9 MB/s) - ‘AdobeStock_384597062.mov’ saved [580929853/580929853]\n",
      "\n",
      "https://d2yqlwoly7fl0b.cloudfront.net/super-slomo/samples/westiepoo.mov\n",
      "--2024-03-30 23:51:30--  https://d2yqlwoly7fl0b.cloudfront.net/super-slomo/samples/westiepoo.mov\n",
      "Resolving d2yqlwoly7fl0b.cloudfront.net (d2yqlwoly7fl0b.cloudfront.net)... 18.154.230.58, 18.154.230.38, 18.154.230.228, ...\n",
      "Connecting to d2yqlwoly7fl0b.cloudfront.net (d2yqlwoly7fl0b.cloudfront.net)|18.154.230.58|:443... connected.\n",
      "HTTP request sent, awaiting response... 200 OK\n",
      "Length: 8908629 (8.5M) [video/quicktime]\n",
      "Saving to: ‘westiepoo.mov’\n",
      "\n",
      "100%[======================================>] 8,908,629   --.-K/s   in 0.08s   \n",
      "\n",
      "2024-03-30 23:51:30 (109 MB/s) - ‘westiepoo.mov’ saved [8908629/8908629]\n",
      "\n"
     ]
    }
   ],
   "source": [
    "for v in videos:\n",
    "    print(v)\n",
    "    !cd {video_dir} && wget {v} --no-check-certificate"
   ]
  },
  {
   "cell_type": "code",
   "execution_count": 6,
   "id": "d1d150c3-2856-4fcb-9805-8500a79f49b0",
   "metadata": {
    "scrolled": true
   },
   "outputs": [],
   "source": [
    "# !cd {video_dir} && curl https://gist.githubusercontent.com/jsturgis/3b19447b304616f18657/raw/a8c1f60074542d28fa8da4fe58c3788610803a65/gistfile1.txt | grep -o 'http[^\"]*.mp4' | xargs -n 1 curl -O"
   ]
  },
  {
   "cell_type": "markdown",
   "id": "7d3110f7-c777-4963-b08e-f2bb85d07e77",
   "metadata": {},
   "source": [
    "### > upload videos to S3"
   ]
  },
  {
   "cell_type": "code",
   "execution_count": 20,
   "id": "d1da0c42-c713-43f4-bc8d-db339abe2052",
   "metadata": {},
   "outputs": [],
   "source": [
    "!rm -rf `find -type d -name .ipynb_checkpoints`"
   ]
  },
  {
   "cell_type": "code",
   "execution_count": 21,
   "id": "810ca845-1c4e-4142-afff-fff8cd412fcf",
   "metadata": {},
   "outputs": [],
   "source": [
    "s3_video_dir=f\"s3://{bucket}/{prefix}/videos/\"\n",
    "\n",
    "!aws s3 sync {video_dir} {s3_video_dir}"
   ]
  },
  {
   "cell_type": "code",
   "execution_count": 22,
   "id": "6e0a9a7e-8b36-4b32-b644-03a6b6f4d592",
   "metadata": {
    "scrolled": false
   },
   "outputs": [
    {
     "name": "stderr",
     "output_type": "stream",
     "text": [
      "INFO:sagemaker.image_uris:image_uri is not presented, retrieving image_uri based on instance_type, framework etc.\n",
      "INFO:sagemaker.processing:Uploaded code_dir to s3://sagemaker-us-east-1-421307757250/multi-modal-search-2024-03-31-21-40-31--2024-03-31-21-40-31-576/source/sourcedir.tar.gz\n",
      "INFO:sagemaker.processing:runproc.sh uploaded to s3://sagemaker-us-east-1-421307757250/multi-modal-search-2024-03-31-21-40-31--2024-03-31-21-40-31-576/source/runproc.sh\n",
      "INFO:sagemaker:Creating processing-job with name multi-modal-search-2024-03-31-21-40-31--2024-03-31-21-40-31-576\n"
     ]
    },
    {
     "name": "stdout",
     "output_type": "stream",
     "text": [
      ".............................\u001b[34mWARNING: Skipping typing as it is not installed.\u001b[0m\n",
      "\u001b[34mWARNING: Running pip as the 'root' user can result in broken permissions and conflicting behaviour with the system package manager. It is recommended to use a virtual environment instead: https://pip.pypa.io/warnings/venv\u001b[0m\n",
      "\u001b[34mCollecting opencv-python-headless (from -r requirements.txt (line 1))\n",
      "  Downloading opencv_python_headless-4.9.0.80-cp37-abi3-manylinux_2_17_x86_64.manylinux2014_x86_64.whl.metadata (20 kB)\u001b[0m\n",
      "\u001b[34mCollecting opensearch-py (from -r requirements.txt (line 2))\n",
      "  Downloading opensearch_py-2.5.0-py2.py3-none-any.whl.metadata (6.8 kB)\u001b[0m\n",
      "\u001b[34mCollecting ipywidgets (from -r requirements.txt (line 3))\n",
      "  Downloading ipywidgets-8.1.2-py3-none-any.whl.metadata (2.4 kB)\u001b[0m\n",
      "\u001b[34mCollecting boto3==1.34.62 (from -r requirements.txt (line 4))\n",
      "  Downloading boto3-1.34.62-py3-none-any.whl.metadata (6.6 kB)\u001b[0m\n",
      "\u001b[34mCollecting botocore<1.35.0,>=1.34.62 (from boto3==1.34.62->-r requirements.txt (line 4))\n",
      "  Downloading botocore-1.34.74-py3-none-any.whl.metadata (5.7 kB)\u001b[0m\n",
      "\u001b[34mRequirement already satisfied: jmespath<2.0.0,>=0.7.1 in /opt/conda/lib/python3.10/site-packages (from boto3==1.34.62->-r requirements.txt (line 4)) (1.0.1)\u001b[0m\n",
      "\u001b[34mCollecting s3transfer<0.11.0,>=0.10.0 (from boto3==1.34.62->-r requirements.txt (line 4))\n",
      "  Downloading s3transfer-0.10.1-py3-none-any.whl.metadata (1.7 kB)\u001b[0m\n",
      "\u001b[34mRequirement already satisfied: numpy>=1.21.2 in /opt/conda/lib/python3.10/site-packages (from opencv-python-headless->-r requirements.txt (line 1)) (1.26.2)\u001b[0m\n",
      "\u001b[34mRequirement already satisfied: urllib3<2,>=1.26.18 in /opt/conda/lib/python3.10/site-packages (from opensearch-py->-r requirements.txt (line 2)) (1.26.18)\u001b[0m\n",
      "\u001b[34mRequirement already satisfied: requests<3.0.0,>=2.4.0 in /opt/conda/lib/python3.10/site-packages (from opensearch-py->-r requirements.txt (line 2)) (2.31.0)\u001b[0m\n",
      "\u001b[34mRequirement already satisfied: six in /opt/conda/lib/python3.10/site-packages (from opensearch-py->-r requirements.txt (line 2)) (1.16.0)\u001b[0m\n",
      "\u001b[34mRequirement already satisfied: python-dateutil in /opt/conda/lib/python3.10/site-packages (from opensearch-py->-r requirements.txt (line 2)) (2.8.2)\u001b[0m\n",
      "\u001b[34mRequirement already satisfied: certifi>=2022.12.07 in /opt/conda/lib/python3.10/site-packages (from opensearch-py->-r requirements.txt (line 2)) (2023.11.17)\u001b[0m\n",
      "\u001b[34mRequirement already satisfied: comm>=0.1.3 in /opt/conda/lib/python3.10/site-packages (from ipywidgets->-r requirements.txt (line 3)) (0.1.4)\u001b[0m\n",
      "\u001b[34mRequirement already satisfied: ipython>=6.1.0 in /opt/conda/lib/python3.10/site-packages (from ipywidgets->-r requirements.txt (line 3)) (8.18.1)\u001b[0m\n",
      "\u001b[34mRequirement already satisfied: traitlets>=4.3.1 in /opt/conda/lib/python3.10/site-packages (from ipywidgets->-r requirements.txt (line 3)) (5.14.0)\u001b[0m\n",
      "\u001b[34mCollecting widgetsnbextension~=4.0.10 (from ipywidgets->-r requirements.txt (line 3))\n",
      "  Downloading widgetsnbextension-4.0.10-py3-none-any.whl.metadata (1.6 kB)\u001b[0m\n",
      "\u001b[34mCollecting jupyterlab-widgets~=3.0.10 (from ipywidgets->-r requirements.txt (line 3))\n",
      "  Downloading jupyterlab_widgets-3.0.10-py3-none-any.whl.metadata (4.1 kB)\u001b[0m\n",
      "\u001b[34mRequirement already satisfied: decorator in /opt/conda/lib/python3.10/site-packages (from ipython>=6.1.0->ipywidgets->-r requirements.txt (line 3)) (5.1.1)\u001b[0m\n",
      "\u001b[34mRequirement already satisfied: jedi>=0.16 in /opt/conda/lib/python3.10/site-packages (from ipython>=6.1.0->ipywidgets->-r requirements.txt (line 3)) (0.19.1)\u001b[0m\n",
      "\u001b[34mRequirement already satisfied: matplotlib-inline in /opt/conda/lib/python3.10/site-packages (from ipython>=6.1.0->ipywidgets->-r requirements.txt (line 3)) (0.1.6)\u001b[0m\n",
      "\u001b[34mRequirement already satisfied: prompt-toolkit<3.1.0,>=3.0.41 in /opt/conda/lib/python3.10/site-packages (from ipython>=6.1.0->ipywidgets->-r requirements.txt (line 3)) (3.0.41)\u001b[0m\n",
      "\u001b[34mRequirement already satisfied: pygments>=2.4.0 in /opt/conda/lib/python3.10/site-packages (from ipython>=6.1.0->ipywidgets->-r requirements.txt (line 3)) (2.17.2)\u001b[0m\n",
      "\u001b[34mRequirement already satisfied: stack-data in /opt/conda/lib/python3.10/site-packages (from ipython>=6.1.0->ipywidgets->-r requirements.txt (line 3)) (0.6.2)\u001b[0m\n",
      "\u001b[34mRequirement already satisfied: exceptiongroup in /opt/conda/lib/python3.10/site-packages (from ipython>=6.1.0->ipywidgets->-r requirements.txt (line 3)) (1.2.0)\u001b[0m\n",
      "\u001b[34mRequirement already satisfied: pexpect>4.3 in /opt/conda/lib/python3.10/site-packages (from ipython>=6.1.0->ipywidgets->-r requirements.txt (line 3)) (4.8.0)\u001b[0m\n",
      "\u001b[34mRequirement already satisfied: charset-normalizer<4,>=2 in /opt/conda/lib/python3.10/site-packages (from requests<3.0.0,>=2.4.0->opensearch-py->-r requirements.txt (line 2)) (3.1.0)\u001b[0m\n",
      "\u001b[34mRequirement already satisfied: idna<4,>=2.5 in /opt/conda/lib/python3.10/site-packages (from requests<3.0.0,>=2.4.0->opensearch-py->-r requirements.txt (line 2)) (3.4)\u001b[0m\n",
      "\u001b[34mRequirement already satisfied: parso<0.9.0,>=0.8.3 in /opt/conda/lib/python3.10/site-packages (from jedi>=0.16->ipython>=6.1.0->ipywidgets->-r requirements.txt (line 3)) (0.8.3)\u001b[0m\n",
      "\u001b[34mRequirement already satisfied: ptyprocess>=0.5 in /opt/conda/lib/python3.10/site-packages (from pexpect>4.3->ipython>=6.1.0->ipywidgets->-r requirements.txt (line 3)) (0.7.0)\u001b[0m\n",
      "\u001b[34mRequirement already satisfied: wcwidth in /opt/conda/lib/python3.10/site-packages (from prompt-toolkit<3.1.0,>=3.0.41->ipython>=6.1.0->ipywidgets->-r requirements.txt (line 3)) (0.2.12)\u001b[0m\n",
      "\u001b[34mRequirement already satisfied: executing>=1.2.0 in /opt/conda/lib/python3.10/site-packages (from stack-data->ipython>=6.1.0->ipywidgets->-r requirements.txt (line 3)) (2.0.1)\u001b[0m\n",
      "\u001b[34mRequirement already satisfied: asttokens>=2.1.0 in /opt/conda/lib/python3.10/site-packages (from stack-data->ipython>=6.1.0->ipywidgets->-r requirements.txt (line 3)) (2.4.1)\u001b[0m\n",
      "\u001b[34mRequirement already satisfied: pure-eval in /opt/conda/lib/python3.10/site-packages (from stack-data->ipython>=6.1.0->ipywidgets->-r requirements.txt (line 3)) (0.2.2)\u001b[0m\n",
      "\u001b[34mDownloading boto3-1.34.62-py3-none-any.whl (139 kB)\n",
      "   ━━━━━━━━━━━━━━━━━━━━━━━━━━━━━━━━━━━━━━━━ 139.3/139.3 kB 29.9 MB/s eta 0:00:00\u001b[0m\n",
      "\u001b[34mDownloading opencv_python_headless-4.9.0.80-cp37-abi3-manylinux_2_17_x86_64.manylinux2014_x86_64.whl (49.6 MB)\n",
      "   ━━━━━━━━━━━━━━━━━━━━━━━━━━━━━━━━━━━━━━━━ 49.6/49.6 MB 86.5 MB/s eta 0:00:00\u001b[0m\n",
      "\u001b[34mDownloading opensearch_py-2.5.0-py2.py3-none-any.whl (266 kB)\n",
      "   ━━━━━━━━━━━━━━━━━━━━━━━━━━━━━━━━━━━━━━━━ 266.1/266.1 kB 94.2 MB/s eta 0:00:00\u001b[0m\n",
      "\u001b[34mDownloading ipywidgets-8.1.2-py3-none-any.whl (139 kB)\n",
      "   ━━━━━━━━━━━━━━━━━━━━━━━━━━━━━━━━━━━━━━━━ 139.4/139.4 kB 66.9 MB/s eta 0:00:00\u001b[0m\n",
      "\u001b[34mDownloading botocore-1.34.74-py3-none-any.whl (12.1 MB)\n",
      "   ━━━━━━━━━━━━━━━━━━━━━━━━━━━━━━━━━━━━━━━━ 12.1/12.1 MB 166.3 MB/s eta 0:00:00\u001b[0m\n",
      "\u001b[34mDownloading jupyterlab_widgets-3.0.10-py3-none-any.whl (215 kB)\n",
      "   ━━━━━━━━━━━━━━━━━━━━━━━━━━━━━━━━━━━━━━━━ 215.0/215.0 kB 90.3 MB/s eta 0:00:00\u001b[0m\n",
      "\u001b[34mDownloading s3transfer-0.10.1-py3-none-any.whl (82 kB)\n",
      "   ━━━━━━━━━━━━━━━━━━━━━━━━━━━━━━━━━━━━━━━━ 82.2/82.2 kB 44.2 MB/s eta 0:00:00\u001b[0m\n",
      "\u001b[34mDownloading widgetsnbextension-4.0.10-py3-none-any.whl (2.3 MB)\n",
      "   ━━━━━━━━━━━━━━━━━━━━━━━━━━━━━━━━━━━━━━━━ 2.3/2.3 MB 174.8 MB/s eta 0:00:00\u001b[0m\n",
      "\u001b[34mInstalling collected packages: widgetsnbextension, opencv-python-headless, jupyterlab-widgets, opensearch-py, botocore, s3transfer, ipywidgets, boto3\u001b[0m\n",
      "\u001b[34m  Attempting uninstall: botocore\n",
      "    Found existing installation: botocore 1.32.7\n",
      "    Uninstalling botocore-1.32.7:\n",
      "      Successfully uninstalled botocore-1.32.7\u001b[0m\n",
      "\u001b[34m  Attempting uninstall: s3transfer\n",
      "    Found existing installation: s3transfer 0.8.0\n",
      "    Uninstalling s3transfer-0.8.0:\n",
      "      Successfully uninstalled s3transfer-0.8.0\n",
      "  Attempting uninstall: boto3\n",
      "    Found existing installation: boto3 1.29.7\n",
      "    Uninstalling boto3-1.29.7:\n",
      "      Successfully uninstalled boto3-1.29.7\u001b[0m\n",
      "\u001b[34mERROR: pip's dependency resolver does not currently take into account all the packages that are installed. This behaviour is the source of the following dependency conflicts.\u001b[0m\n",
      "\u001b[34mawscli 1.30.7 requires botocore==1.32.7, but you have botocore 1.34.74 which is incompatible.\u001b[0m\n",
      "\u001b[34mawscli 1.30.7 requires s3transfer<0.9.0,>=0.8.0, but you have s3transfer 0.10.1 which is incompatible.\u001b[0m\n",
      "\u001b[34mSuccessfully installed boto3-1.34.62 botocore-1.34.74 ipywidgets-8.1.2 jupyterlab-widgets-3.0.10 opencv-python-headless-4.9.0.80 opensearch-py-2.5.0 s3transfer-0.10.1 widgetsnbextension-4.0.10\u001b[0m\n",
      "\u001b[34mWARNING: Running pip as the 'root' user can result in broken permissions and conflicting behaviour with the system package manager. It is recommended to use a virtual environment instead: https://pip.pypa.io/warnings/venv\u001b[0m\n",
      "\u001b[34m[notice] A new release of pip is available: 23.3.1 -> 24.0\u001b[0m\n",
      "\u001b[34m[notice] To update, run: pip install --upgrade pip\u001b[0m\n",
      "\u001b[34mAWS region: us-east-1\u001b[0m\n",
      "\u001b[34msagemaker.config INFO - Not applying SDK defaults from location: /etc/xdg/sagemaker/config.yaml\u001b[0m\n",
      "\u001b[34msagemaker.config INFO - Not applying SDK defaults from location: /root/.config/sagemaker/config.yaml\u001b[0m\n",
      "\u001b[34mcheck video files ...\u001b[0m\n",
      "\u001b[34mprocess begin ...\u001b[0m\n",
      "\u001b[34mprocess file: /opt/ml/processing/input/videos/AdobeStock_161973588.mov...\u001b[0m\n",
      "\u001b[34mframe rate is 29.97002997002997 per second\u001b[0m\n",
      "\u001b[34mnumber of frames: 11\u001b[0m\n"
     ]
    },
    {
     "name": "stdout",
     "output_type": "stream",
     "text": [
      "\u001b[34mupload frames to s3 bucket...\u001b[0m\n",
      "\u001b[34mIndexed 22 documents\u001b[0m\n",
      "\u001b[34m22 record succeeded, [] failed ...\u001b[0m\n",
      "\u001b[34mprocess file: /opt/ml/processing/input/videos/AWS_España_Ya disponible.mp4...\u001b[0m\n",
      "\u001b[34mframe rate is 23.976023976023978 per second\u001b[0m\n",
      "\u001b[34mnumber of frames: 27\u001b[0m\n",
      "\u001b[34mupload frames to s3 bucket...\u001b[0m\n",
      "\u001b[34mIndexed 44 documents\u001b[0m\n",
      "\u001b[34m44 record succeeded, [] failed ...\u001b[0m\n",
      "\u001b[34mprocess file: /opt/ml/processing/input/videos/westiepoo.mov...\u001b[0m\n",
      "\u001b[34mframe rate is 25.0 per second\u001b[0m\n",
      "\u001b[34mnumber of frames: 1\u001b[0m\n",
      "\u001b[34mupload frames to s3 bucket...\u001b[0m\n",
      "\u001b[34mIndexed 2 documents\u001b[0m\n",
      "\u001b[34m2 record succeeded, [] failed ...\u001b[0m\n",
      "\u001b[34mprocess file: /opt/ml/processing/input/videos/AdobeStock_384597062.mov...\u001b[0m\n",
      "\u001b[34mframe rate is 59.96002664890073 per second\u001b[0m\n",
      "\u001b[34mnumber of frames: 5\u001b[0m\n",
      "\u001b[34mupload frames to s3 bucket...\u001b[0m\n",
      "\u001b[34mIndexed 10 documents\u001b[0m\n",
      "\u001b[34m10 record succeeded, [] failed ...\u001b[0m\n",
      "\u001b[34mprocess file: /opt/ml/processing/input/videos/RaceToTheCloud_444_PR_M_040623-FINAL_264.mp4...\u001b[0m\n",
      "\u001b[34mframe rate is 24.0 per second\u001b[0m\n",
      "\u001b[34mnumber of frames: 120\u001b[0m\n",
      "\u001b[34mupload frames to s3 bucket...\u001b[0m\n",
      "\u001b[34mIndexed 222 documents\u001b[0m\n",
      "\u001b[34m222 record succeeded, [] failed ...\u001b[0m\n",
      "\u001b[34mprocess file: /opt/ml/processing/input/videos/aws-picchu-edit-rendered.mp4...\u001b[0m\n",
      "\u001b[34mframe rate is 24.0 per second\u001b[0m\n",
      "\u001b[34mnumber of frames: 54\u001b[0m\n",
      "\u001b[34mupload frames to s3 bucket...\u001b[0m\n",
      "\u001b[34mIndexed 54 documents\u001b[0m\n",
      "\u001b[34m54 record succeeded, [] failed ...\u001b[0m\n",
      "\u001b[34mvalidate query ...\u001b[0m\n",
      "\u001b[34mThe image depicts a scene from a movie or TV show. It shows two people sitting inside a car. One person, wearing a yellow outfit, is in the driver's seat. The other person, with long dark hair, is sitting in the passenger seat and appears to be yelling or expressing some strong emotion through their open mouth and facial expression. The background outside the car windows is blurred, suggesting movement.\u001b[0m\n",
      "\u001b[34mThe image shows a street circuit or racetrack, likely for a motorsports event. In the foreground, two race cars, one yellow and one blue, are seen racing on the track. Grandstands filled with spectators line one side of the circuit. An advertising board for AWS (Amazon Web Services) is prominently displayed along the track.\u001b[0m\n",
      "\u001b[34mThe image depicts a high-speed racing scene on a track. Multiple colorful sports cars can be seen speeding through a curved section of the racetrack, with blurred backgrounds suggesting intense motion and speed. The vibrant colors and dynamic composition capture the thrill and excitement of professional racing events.\u001b[0m\n",
      "\u001b[34mprocessing complete......\u001b[0m\n",
      "\n"
     ]
    }
   ],
   "source": [
    "from sagemaker.pytorch.processing import PyTorchProcessor\n",
    "from sagemaker.processing import ProcessingInput, ProcessingOutput\n",
    "from sagemaker import get_execution_role\n",
    "\n",
    "#Initialize the PyTorchProcessor\n",
    "pytorch_processor = PyTorchProcessor(\n",
    "    framework_version='2.0',\n",
    "    py_version=\"py310\",\n",
    "    role=get_execution_role(),\n",
    "    instance_type='ml.g4dn.4xlarge',\n",
    "    instance_count=1,\n",
    "    base_job_name=name_from_base(prefix)\n",
    ")\n",
    "\n",
    "#Run the processing job\n",
    "pytorch_processor.run(\n",
    "    code='video_ingestion.py',\n",
    "    source_dir='code_dir',\n",
    "    arguments=[\"--host\", host, \"--index_name\", index_name, \n",
    "              \"--prefix\", prefix, \"--bucket\", bucket, \"--region\", region],\n",
    "    inputs=[\n",
    "        ProcessingInput(\n",
    "            input_name='videos',\n",
    "            source=s3_video_dir,\n",
    "            destination='/opt/ml/processing/input/videos'\n",
    "        )\n",
    "    ]\n",
    ")"
   ]
  },
  {
   "cell_type": "markdown",
   "id": "d6137b57-3a7d-422c-8c7a-47fc0fde3afa",
   "metadata": {},
   "source": [
    "### > Local ingestion testing"
   ]
  },
  {
   "cell_type": "code",
   "execution_count": null,
   "id": "bec1c904-c52a-4e37-85b6-2a47c6e70c59",
   "metadata": {},
   "outputs": [],
   "source": [
    "!rm -rf `find -type d -name .ipynb_checkpoints`"
   ]
  },
  {
   "cell_type": "code",
   "execution_count": null,
   "id": "d36e1305-8bf5-4b57-bb6e-bf33c14e291a",
   "metadata": {},
   "outputs": [],
   "source": [
    "try:\n",
    "    entries = os.scandir(\"dog\")#video_dir)\n",
    "except FileNotFoundError as e:\n",
    "    print(f\"Could not scan folder: {e}\")\n",
    "    raise\n",
    "except OSError as e: \n",
    "    print(f\"Could not scan folder: {e}\")\n",
    "    raise"
   ]
  },
  {
   "cell_type": "markdown",
   "id": "c9bd041e-886f-4181-a6fa-b42da0a9bee9",
   "metadata": {},
   "source": [
    "### > Process videos\n",
    "\n",
    "The processing include following steps:\n",
    "1. extract key frames from video\n",
    "2. upload to s3 and build the index\n",
    "3. ingest index to opensearch"
   ]
  },
  {
   "cell_type": "code",
   "execution_count": null,
   "id": "edb56e2f-8a8f-4139-b0d2-3c2319830c13",
   "metadata": {},
   "outputs": [],
   "source": [
    "from code_dir.helper import extract_key_frames, upload_frames\n",
    "from code_dir.opensearch_util import bulk_index_ingestion\n",
    "from tqdm import tqdm\n",
    "\n",
    "for entry in tqdm(entries):\n",
    "    try:\n",
    "        if entry.is_file() and entry.path.endswith((\".mp4\", \".mkv\", \".mov\")): \n",
    "\n",
    "            print(f\"process file: {entry.path}...\")\n",
    "            # extract key frames from video\n",
    "            output_dir, fps = extract_key_frames(entry.path)\n",
    "            print(f\"frame rate is {fps} per second\")\n",
    "\n",
    "            print(f\"number of frames: {len(os.listdir(output_dir))}\")\n",
    "            # upload fames to s3\n",
    "            frames = upload_frames(output_dir, bucket, prefix, entry.path.split('/')[-1], fps)\n",
    "            print(f\"upload frames to s3 bucket...\")\n",
    "\n",
    "            # ingest the index file into opensearch\n",
    "            sucess, failed = bulk_index_ingestion(host, index_name, frames)\n",
    "            \n",
    "    except OSError as e: \n",
    "        print(f\"Could not read entry {entry.path}: {e}\")"
   ]
  },
  {
   "cell_type": "code",
   "execution_count": null,
   "id": "eb159d72-ea71-4884-9179-988d694d9332",
   "metadata": {},
   "outputs": [],
   "source": [
    "import os\n",
    "import random\n",
    "from IPython.display import display, Image\n",
    "\n",
    "# Get a list of all image files in the folder\n",
    "image_files = [f for f in os.listdir(output_dir) if f.endswith(('.jpg', '.png', '.gif'))]\n",
    "\n",
    "# Display the sampled images\n",
    "for image_file in image_files:\n",
    "    image_path = os.path.join(output_dir, image_file)\n",
    "    display(Image(filename=image_path))"
   ]
  },
  {
   "cell_type": "markdown",
   "id": "e28686d8-f9cf-47cb-bc08-b3e11a51000c",
   "metadata": {},
   "source": [
    "### > Test Multi-modal text search"
   ]
  },
  {
   "cell_type": "code",
   "execution_count": 16,
   "id": "c3470424-13e3-4ece-ab19-9816f60ff22a",
   "metadata": {},
   "outputs": [],
   "source": [
    "# build opensearch query\n",
    "query = {\n",
    "    \"size\": 10,\n",
    "    \"query\":{\n",
    "        \"knn\": {\n",
    "        \"multimodal_vector\": {\n",
    "            \"vector\": [],\n",
    "            \"k\": 5\n",
    "        }\n",
    "        }\n",
    "    },\n",
    "    \"_source\": [\"video\", \n",
    "                \"bucket\", \n",
    "                \"video_key\" , \n",
    "                \"frame_key\", \n",
    "                \"caption\", \n",
    "                \"timestamp\", \n",
    "                \"embedding_type\"]\n",
    "\n",
    "    }"
   ]
  },
  {
   "cell_type": "code",
   "execution_count": 17,
   "id": "9b23ed00-2e7d-4d05-af08-2778613ac344",
   "metadata": {},
   "outputs": [
    {
     "name": "stderr",
     "output_type": "stream",
     "text": [
      "INFO:botocore.credentials:Found credentials from IAM Role: BaseNotebookInstanceEc2InstanceRole\n",
      "INFO:opensearch:POST https://1fk47z0pze7baugjoq9g.us-east-1.aoss.amazonaws.com:443/mm-search-2024-03-30-23--index/_search [status:200 request:0.218s]\n"
     ]
    },
    {
     "data": {
      "application/vnd.jupyter.widget-view+json": {
       "model_id": "900da0007afd4e30893f2c8e14c398ef",
       "version_major": 2,
       "version_minor": 0
      },
      "text/plain": [
       "HBox(children=(VBox(children=(Label(value='From video: RaceToTh\\neCloud_444_PR_M_0406\\n23-FINAL_264.mp4 at\\nti…"
      ]
     },
     "metadata": {},
     "output_type": "display_data"
    }
   ],
   "source": [
    "from code_dir.helper import opensearch_query, render_search_result, get_embedding, encode_image_to_base64\n",
    "from IPython.display import display, clear_output\n",
    "\n",
    "\n",
    "query[\"query\"][\"knn\"][\"multimodal_vector\"][\"vector\"] = get_embedding(text_description=\"Show me a race car driver\")\n",
    "        \n",
    "results = opensearch_query(query,\n",
    "                            host=host,\n",
    "                           index_name=index_name)\n",
    "\n",
    "display(render_search_result(results))"
   ]
  },
  {
   "cell_type": "markdown",
   "id": "3036b9fe-4775-4fcd-8d94-7dfb604f51a8",
   "metadata": {},
   "source": [
    "### > Test MM mage Search"
   ]
  },
  {
   "cell_type": "code",
   "execution_count": 18,
   "id": "bd9720dc-cb97-4086-babf-d2c983be108b",
   "metadata": {},
   "outputs": [
    {
     "name": "stderr",
     "output_type": "stream",
     "text": [
      "INFO:opensearch:POST https://1fk47z0pze7baugjoq9g.us-east-1.aoss.amazonaws.com:443/mm-search-2024-03-30-23--index/_search [status:200 request:0.141s]\n"
     ]
    },
    {
     "data": {
      "application/vnd.jupyter.widget-view+json": {
       "model_id": "20e2dab259aa417cba8404659495aaa8",
       "version_major": 2,
       "version_minor": 0
      },
      "text/plain": [
       "HBox(children=(VBox(children=(Label(value='From video:\\nwestiepoo.mov at\\ntime: 0.00\\nScore: 68.36%'), Image(v…"
      ]
     },
     "metadata": {},
     "output_type": "display_data"
    }
   ],
   "source": [
    "image_base64 = encode_image_to_base64(\"test-image.jpg\")\n",
    "\n",
    "query[\"query\"][\"knn\"][\"multimodal_vector\"][\"vector\"] = get_embedding(image_base64=image_base64)\n",
    "        \n",
    "results = opensearch_query(query, \n",
    "                           host = host,\n",
    "                           index_name=index_name)\n",
    "\n",
    "display(render_search_result(results))"
   ]
  },
  {
   "cell_type": "markdown",
   "id": "a9eaed7b-1dc3-4792-88fe-aa19dc09b7d1",
   "metadata": {},
   "source": [
    "### > Interactive UI\n",
    "\n",
    "Have fun.....!\n",
    "\n",
    "Here are some sample prompts:\n",
    "\n",
    "- cute dog running on grass\n",
    "- flying squiral\n",
    "- a bunny flying a kite\n",
    "- Game of thrones"
   ]
  },
  {
   "cell_type": "code",
   "execution_count": null,
   "id": "3d7f84e1-ad79-4291-b544-e450b0bcd7aa",
   "metadata": {},
   "outputs": [],
   "source": [
    "import ipywidgets as ipw\n",
    "class ChatUX:\n",
    "    \"\"\" A chat UX using IPWidgets\n",
    "    \"\"\"\n",
    "    def __init__(self, qa):\n",
    "        self.qa = qa\n",
    "        self.name = None\n",
    "        self.b=None\n",
    "        self.out = ipw.Output()\n",
    "        self.session_id = None\n",
    "\n",
    "    def start_chat(self):\n",
    "        print(\"Let's chat!\")\n",
    "        display(self.out)\n",
    "        self.chat(None)\n",
    "\n",
    "    def chat(self, _):\n",
    "        if self.name is None:\n",
    "            prompt = \"\"\n",
    "        else:\n",
    "            prompt = self.name.value\n",
    "        if 'q' == prompt or 'quit' == prompt or 'Q' == prompt:\n",
    "            print(\"Thank you , that was a nice chat !!\")\n",
    "            return\n",
    "        elif len(prompt) > 0:\n",
    "            with self.out:\n",
    "                thinking = ipw.Label(value=f\"Thinking...\")\n",
    "                display(thinking)\n",
    "                try:\n",
    "                    query[\"query\"][\"knn\"][\"multimodal_vector\"][\"vector\"] = get_embedding(text_description=prompt)\n",
    "                    results = opensearch_query(query,\n",
    "                                               host=host,\n",
    "                                               index_name=index_name)\n",
    "\n",
    "                    output_results = render_search_result(results)\n",
    "                except Exception as e:\n",
    "                    print(e)\n",
    "                    output_results = \"No answer\"\n",
    "\n",
    "                thinking.value=\"\"\n",
    "                print(\"AI:\")\n",
    "                display(output_results)\n",
    "                self.name.disabled = True\n",
    "                self.b.disabled = True\n",
    "                self.name = None\n",
    "\n",
    "        if self.name is None:\n",
    "            with self.out:\n",
    "                self.name = ipw.Text(description=\"You: \", placeholder='q to quit')\n",
    "                self.b = ipw.Button(description=\"Send\")\n",
    "                self.b.on_click(self.chat)\n",
    "                display(ipw.Box(children=(self.name, self.b)))"
   ]
  },
  {
   "cell_type": "code",
   "execution_count": null,
   "id": "e4b50c6e-8adf-44e3-8402-0ce788e0199f",
   "metadata": {},
   "outputs": [],
   "source": [
    "agent_runtime_client = boto3.client('bedrock-runtime')\n",
    "\n",
    "chat = ChatUX(agent_runtime_client)\n",
    "chat.start_chat()"
   ]
  },
  {
   "cell_type": "code",
   "execution_count": null,
   "id": "66945f45-cc65-4e01-9ff7-ac1f07448088",
   "metadata": {},
   "outputs": [],
   "source": []
  }
 ],
 "metadata": {
  "kernelspec": {
   "display_name": "conda_pytorch_p310",
   "language": "python",
   "name": "conda_pytorch_p310"
  },
  "language_info": {
   "codemirror_mode": {
    "name": "ipython",
    "version": 3
   },
   "file_extension": ".py",
   "mimetype": "text/x-python",
   "name": "python",
   "nbconvert_exporter": "python",
   "pygments_lexer": "ipython3",
   "version": "3.10.13"
  }
 },
 "nbformat": 4,
 "nbformat_minor": 5
}
