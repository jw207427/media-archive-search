{
 "cells": [
  {
   "cell_type": "markdown",
   "id": "dbc61d2b-e3c1-48e2-b3d1-0c6793b25243",
   "metadata": {},
   "source": [
    "### > Setup ffmpeg"
   ]
  },
  {
   "cell_type": "code",
   "execution_count": null,
   "id": "1e77ff9d-f0d2-4961-b9b9-9a9eef1f6c80",
   "metadata": {
    "scrolled": true
   },
   "outputs": [],
   "source": [
    "%%sh\n",
    "sudo apt-get update && sudo apt upgrade -y\n",
    "\n",
    "sudo apt-get install ffmpeg -y\n",
    "\n",
    "pip install -U sagemaker"
   ]
  },
  {
   "cell_type": "markdown",
   "id": "fd7f4856-0ddb-4874-8061-d801d3fd5b2d",
   "metadata": {},
   "source": [
    "### > Initialize parameters"
   ]
  },
  {
   "cell_type": "code",
   "execution_count": 12,
   "id": "699cdf9e-b99d-467c-a095-4ff802a14f77",
   "metadata": {},
   "outputs": [
    {
     "name": "stdout",
     "output_type": "stream",
     "text": [
      "Opensearch hosting url: vpkc59yx4rrlmbkjb5wl.us-west-2.aoss.amazonaws.com\n",
      "Opensearch index name: mm-search-2024-03-30-02--index\n"
     ]
    }
   ],
   "source": [
    "import boto3\n",
    "import sagemaker\n",
    "from sagemaker.utils import name_from_base\n",
    "import shutil\n",
    "import os\n",
    "\n",
    "sagemaker_session = sagemaker.Session()\n",
    "\n",
    "bucket = sagemaker_session.default_bucket()\n",
    "region = sagemaker_session._region_name\n",
    "\n",
    "prefix = \"multi-modal-search\"\n",
    "\n",
    "s3_client = boto3.client('s3')\n",
    "\n",
    "video_dir = 'videos' # BigBuckBunny.mp4' #TearsOfSteel.mp4'  #\n",
    "\n",
    "# load the host and index_name for opensearch\n",
    "%store -r host\n",
    "%store -r index_name\n",
    "\n",
    "print(f\"Opensearch hosting url: {host}\")\n",
    "print(f\"Opensearch index name: {index_name}\")"
   ]
  },
  {
   "cell_type": "markdown",
   "id": "83494a48-1d6e-44b0-b2de-d7f3e7abeaa7",
   "metadata": {},
   "source": [
    "### > download and setup videos"
   ]
  },
  {
   "cell_type": "code",
   "execution_count": null,
   "id": "9d6a566d-7775-487e-ba10-049d2dba90f5",
   "metadata": {},
   "outputs": [],
   "source": [
    "if os.path.exists(video_dir):\n",
    "    # Remove existing folder\n",
    "    shutil.rmtree(video_dir)\n",
    "    \n",
    "# Create new folder\n",
    "os.makedirs(video_dir)"
   ]
  },
  {
   "cell_type": "code",
   "execution_count": null,
   "id": "8b2f4c0c-0aaa-41da-bb37-ecc36880c85d",
   "metadata": {},
   "outputs": [],
   "source": [
    "videos=[\n",
    "    # “Shooting in motion for a football player”\n",
    "    \"https://d286ovwbajn9p7.cloudfront.net/AdobeStock_161973588.mov\",\n",
    "    # “Race to the Cloud”\n",
    "    \"https://d286ovwbajn9p7.cloudfront.net/RaceToTheCloud_444_PR_M_040623-FINAL_264.mp4\",\n",
    "    # \"Picchu\"\n",
    "    \"https://d286ovwbajn9p7.cloudfront.net/aws-picchu-edit-rendered.mp4\",\n",
    "    # \"AWS España Ya disponible\"\n",
    "    \"https://d286ovwbajn9p7.cloudfront.net/AWS_Espa%C3%B1a_Ya%20disponible.mp4\",\n",
    "    # \"Christmas fire\"\n",
    "    \"https://d286ovwbajn9p7.cloudfront.net/AdobeStock_384597062.mov\",\n",
    "    # \"westiepoo\"\n",
    "    \"https://d2yqlwoly7fl0b.cloudfront.net/super-slomo/samples/westiepoo.mov\",\n",
    "]"
   ]
  },
  {
   "cell_type": "code",
   "execution_count": null,
   "id": "3d512f88-e087-44fa-baae-b9d60b34e449",
   "metadata": {
    "scrolled": true
   },
   "outputs": [],
   "source": [
    "for v in videos:\n",
    "    print(v)\n",
    "    !cd {video_dir} && wget {v} --no-check-certificate"
   ]
  },
  {
   "cell_type": "code",
   "execution_count": null,
   "id": "d1d150c3-2856-4fcb-9805-8500a79f49b0",
   "metadata": {
    "scrolled": true
   },
   "outputs": [],
   "source": [
    "# !cd {video_dir} && curl https://gist.githubusercontent.com/jsturgis/3b19447b304616f18657/raw/a8c1f60074542d28fa8da4fe58c3788610803a65/gistfile1.txt | grep -o 'http[^\"]*.mp4' | xargs -n 1 curl -O"
   ]
  },
  {
   "cell_type": "markdown",
   "id": "7d3110f7-c777-4963-b08e-f2bb85d07e77",
   "metadata": {},
   "source": [
    "### > upload videos to S3"
   ]
  },
  {
   "cell_type": "code",
   "execution_count": 13,
   "id": "d1da0c42-c713-43f4-bc8d-db339abe2052",
   "metadata": {},
   "outputs": [],
   "source": [
    "!rm -rf `find -type d -name .ipynb_checkpoints`"
   ]
  },
  {
   "cell_type": "code",
   "execution_count": 14,
   "id": "810ca845-1c4e-4142-afff-fff8cd412fcf",
   "metadata": {},
   "outputs": [],
   "source": [
    "s3_video_dir=f\"s3://{bucket}/{prefix}/videos/\"\n",
    "\n",
    "!aws s3 sync {video_dir} {s3_video_dir}"
   ]
  },
  {
   "cell_type": "code",
   "execution_count": 15,
   "id": "6e0a9a7e-8b36-4b32-b644-03a6b6f4d592",
   "metadata": {
    "scrolled": true
   },
   "outputs": [
    {
     "name": "stderr",
     "output_type": "stream",
     "text": [
      "INFO:sagemaker.image_uris:image_uri is not presented, retrieving image_uri based on instance_type, framework etc.\n",
      "INFO:sagemaker.processing:Uploaded code_dir to s3://sagemaker-us-west-2-421307757250/multi-modal-search-2024-03-30-16-10-23--2024-03-30-16-10-23-432/source/sourcedir.tar.gz\n",
      "INFO:sagemaker.processing:runproc.sh uploaded to s3://sagemaker-us-west-2-421307757250/multi-modal-search-2024-03-30-16-10-23--2024-03-30-16-10-23-432/source/runproc.sh\n",
      "INFO:sagemaker:Creating processing-job with name multi-modal-search-2024-03-30-16-10-23--2024-03-30-16-10-23-432\n"
     ]
    },
    {
     "name": "stdout",
     "output_type": "stream",
     "text": [
      ".............................\u001b[34mWARNING: Skipping typing as it is not installed.\u001b[0m\n",
      "\u001b[34mWARNING: Running pip as the 'root' user can result in broken permissions and conflicting behaviour with the system package manager. It is recommended to use a virtual environment instead: https://pip.pypa.io/warnings/venv\u001b[0m\n",
      "\u001b[34mCollecting opencv-python-headless (from -r requirements.txt (line 1))\n",
      "  Downloading opencv_python_headless-4.9.0.80-cp37-abi3-manylinux_2_17_x86_64.manylinux2014_x86_64.whl.metadata (20 kB)\u001b[0m\n",
      "\u001b[34mCollecting opensearch-py (from -r requirements.txt (line 2))\n",
      "  Downloading opensearch_py-2.5.0-py2.py3-none-any.whl.metadata (6.8 kB)\u001b[0m\n",
      "\u001b[34mCollecting ipywidgets (from -r requirements.txt (line 3))\n",
      "  Downloading ipywidgets-8.1.2-py3-none-any.whl.metadata (2.4 kB)\u001b[0m\n",
      "\u001b[34mCollecting boto3==1.34.62 (from -r requirements.txt (line 4))\n",
      "  Downloading boto3-1.34.62-py3-none-any.whl.metadata (6.6 kB)\u001b[0m\n",
      "\u001b[34mCollecting botocore<1.35.0,>=1.34.62 (from boto3==1.34.62->-r requirements.txt (line 4))\n",
      "  Downloading botocore-1.34.74-py3-none-any.whl.metadata (5.7 kB)\u001b[0m\n",
      "\u001b[34mRequirement already satisfied: jmespath<2.0.0,>=0.7.1 in /opt/conda/lib/python3.10/site-packages (from boto3==1.34.62->-r requirements.txt (line 4)) (1.0.1)\u001b[0m\n",
      "\u001b[34mCollecting s3transfer<0.11.0,>=0.10.0 (from boto3==1.34.62->-r requirements.txt (line 4))\n",
      "  Downloading s3transfer-0.10.1-py3-none-any.whl.metadata (1.7 kB)\u001b[0m\n",
      "\u001b[34mRequirement already satisfied: numpy>=1.21.2 in /opt/conda/lib/python3.10/site-packages (from opencv-python-headless->-r requirements.txt (line 1)) (1.26.2)\u001b[0m\n",
      "\u001b[34mRequirement already satisfied: urllib3<2,>=1.26.18 in /opt/conda/lib/python3.10/site-packages (from opensearch-py->-r requirements.txt (line 2)) (1.26.18)\u001b[0m\n",
      "\u001b[34mRequirement already satisfied: requests<3.0.0,>=2.4.0 in /opt/conda/lib/python3.10/site-packages (from opensearch-py->-r requirements.txt (line 2)) (2.31.0)\u001b[0m\n",
      "\u001b[34mRequirement already satisfied: six in /opt/conda/lib/python3.10/site-packages (from opensearch-py->-r requirements.txt (line 2)) (1.16.0)\u001b[0m\n",
      "\u001b[34mRequirement already satisfied: python-dateutil in /opt/conda/lib/python3.10/site-packages (from opensearch-py->-r requirements.txt (line 2)) (2.8.2)\u001b[0m\n",
      "\u001b[34mRequirement already satisfied: certifi>=2022.12.07 in /opt/conda/lib/python3.10/site-packages (from opensearch-py->-r requirements.txt (line 2)) (2023.11.17)\u001b[0m\n",
      "\u001b[34mRequirement already satisfied: comm>=0.1.3 in /opt/conda/lib/python3.10/site-packages (from ipywidgets->-r requirements.txt (line 3)) (0.1.4)\u001b[0m\n",
      "\u001b[34mRequirement already satisfied: ipython>=6.1.0 in /opt/conda/lib/python3.10/site-packages (from ipywidgets->-r requirements.txt (line 3)) (8.18.1)\u001b[0m\n",
      "\u001b[34mRequirement already satisfied: traitlets>=4.3.1 in /opt/conda/lib/python3.10/site-packages (from ipywidgets->-r requirements.txt (line 3)) (5.14.0)\u001b[0m\n",
      "\u001b[34mCollecting widgetsnbextension~=4.0.10 (from ipywidgets->-r requirements.txt (line 3))\n",
      "  Downloading widgetsnbextension-4.0.10-py3-none-any.whl.metadata (1.6 kB)\u001b[0m\n",
      "\u001b[34mCollecting jupyterlab-widgets~=3.0.10 (from ipywidgets->-r requirements.txt (line 3))\n",
      "  Downloading jupyterlab_widgets-3.0.10-py3-none-any.whl.metadata (4.1 kB)\u001b[0m\n",
      "\u001b[34mRequirement already satisfied: decorator in /opt/conda/lib/python3.10/site-packages (from ipython>=6.1.0->ipywidgets->-r requirements.txt (line 3)) (5.1.1)\u001b[0m\n",
      "\u001b[34mRequirement already satisfied: jedi>=0.16 in /opt/conda/lib/python3.10/site-packages (from ipython>=6.1.0->ipywidgets->-r requirements.txt (line 3)) (0.19.1)\u001b[0m\n",
      "\u001b[34mRequirement already satisfied: matplotlib-inline in /opt/conda/lib/python3.10/site-packages (from ipython>=6.1.0->ipywidgets->-r requirements.txt (line 3)) (0.1.6)\u001b[0m\n",
      "\u001b[34mRequirement already satisfied: prompt-toolkit<3.1.0,>=3.0.41 in /opt/conda/lib/python3.10/site-packages (from ipython>=6.1.0->ipywidgets->-r requirements.txt (line 3)) (3.0.41)\u001b[0m\n",
      "\u001b[34mRequirement already satisfied: pygments>=2.4.0 in /opt/conda/lib/python3.10/site-packages (from ipython>=6.1.0->ipywidgets->-r requirements.txt (line 3)) (2.17.2)\u001b[0m\n",
      "\u001b[34mRequirement already satisfied: stack-data in /opt/conda/lib/python3.10/site-packages (from ipython>=6.1.0->ipywidgets->-r requirements.txt (line 3)) (0.6.2)\u001b[0m\n",
      "\u001b[34mRequirement already satisfied: exceptiongroup in /opt/conda/lib/python3.10/site-packages (from ipython>=6.1.0->ipywidgets->-r requirements.txt (line 3)) (1.2.0)\u001b[0m\n",
      "\u001b[34mRequirement already satisfied: pexpect>4.3 in /opt/conda/lib/python3.10/site-packages (from ipython>=6.1.0->ipywidgets->-r requirements.txt (line 3)) (4.8.0)\u001b[0m\n",
      "\u001b[34mRequirement already satisfied: charset-normalizer<4,>=2 in /opt/conda/lib/python3.10/site-packages (from requests<3.0.0,>=2.4.0->opensearch-py->-r requirements.txt (line 2)) (3.1.0)\u001b[0m\n",
      "\u001b[34mRequirement already satisfied: idna<4,>=2.5 in /opt/conda/lib/python3.10/site-packages (from requests<3.0.0,>=2.4.0->opensearch-py->-r requirements.txt (line 2)) (3.4)\u001b[0m\n",
      "\u001b[34mRequirement already satisfied: parso<0.9.0,>=0.8.3 in /opt/conda/lib/python3.10/site-packages (from jedi>=0.16->ipython>=6.1.0->ipywidgets->-r requirements.txt (line 3)) (0.8.3)\u001b[0m\n",
      "\u001b[34mRequirement already satisfied: ptyprocess>=0.5 in /opt/conda/lib/python3.10/site-packages (from pexpect>4.3->ipython>=6.1.0->ipywidgets->-r requirements.txt (line 3)) (0.7.0)\u001b[0m\n",
      "\u001b[34mRequirement already satisfied: wcwidth in /opt/conda/lib/python3.10/site-packages (from prompt-toolkit<3.1.0,>=3.0.41->ipython>=6.1.0->ipywidgets->-r requirements.txt (line 3)) (0.2.12)\u001b[0m\n",
      "\u001b[34mRequirement already satisfied: executing>=1.2.0 in /opt/conda/lib/python3.10/site-packages (from stack-data->ipython>=6.1.0->ipywidgets->-r requirements.txt (line 3)) (2.0.1)\u001b[0m\n",
      "\u001b[34mRequirement already satisfied: asttokens>=2.1.0 in /opt/conda/lib/python3.10/site-packages (from stack-data->ipython>=6.1.0->ipywidgets->-r requirements.txt (line 3)) (2.4.1)\u001b[0m\n",
      "\u001b[34mRequirement already satisfied: pure-eval in /opt/conda/lib/python3.10/site-packages (from stack-data->ipython>=6.1.0->ipywidgets->-r requirements.txt (line 3)) (0.2.2)\u001b[0m\n",
      "\u001b[34mDownloading boto3-1.34.62-py3-none-any.whl (139 kB)\n",
      "   ━━━━━━━━━━━━━━━━━━━━━━━━━━━━━━━━━━━━━━━━ 139.3/139.3 kB 7.7 MB/s eta 0:00:00\u001b[0m\n",
      "\u001b[34mDownloading opencv_python_headless-4.9.0.80-cp37-abi3-manylinux_2_17_x86_64.manylinux2014_x86_64.whl (49.6 MB)\u001b[0m\n",
      "\u001b[34m   ━━━━━━━━━━━━━━━━━━━━━━━━━━━━━━━━━━━━━━━━ 49.6/49.6 MB 90.7 MB/s eta 0:00:00\u001b[0m\n",
      "\u001b[34mDownloading opensearch_py-2.5.0-py2.py3-none-any.whl (266 kB)\n",
      "   ━━━━━━━━━━━━━━━━━━━━━━━━━━━━━━━━━━━━━━━━ 266.1/266.1 kB 91.6 MB/s eta 0:00:00\u001b[0m\n",
      "\u001b[34mDownloading ipywidgets-8.1.2-py3-none-any.whl (139 kB)\n",
      "   ━━━━━━━━━━━━━━━━━━━━━━━━━━━━━━━━━━━━━━━━ 139.4/139.4 kB 64.2 MB/s eta 0:00:00\u001b[0m\n",
      "\u001b[34mDownloading botocore-1.34.74-py3-none-any.whl (12.1 MB)\n",
      "   ━━━━━━━━━━━━━━━━━━━━━━━━━━━━━━━━━━━━━━━━ 12.1/12.1 MB 166.6 MB/s eta 0:00:00\u001b[0m\n",
      "\u001b[34mDownloading jupyterlab_widgets-3.0.10-py3-none-any.whl (215 kB)\n",
      "   ━━━━━━━━━━━━━━━━━━━━━━━━━━━━━━━━━━━━━━━━ 215.0/215.0 kB 83.9 MB/s eta 0:00:00\u001b[0m\n",
      "\u001b[34mDownloading s3transfer-0.10.1-py3-none-any.whl (82 kB)\n",
      "   ━━━━━━━━━━━━━━━━━━━━━━━━━━━━━━━━━━━━━━━━ 82.2/82.2 kB 40.8 MB/s eta 0:00:00\u001b[0m\n",
      "\u001b[34mDownloading widgetsnbextension-4.0.10-py3-none-any.whl (2.3 MB)\n",
      "   ━━━━━━━━━━━━━━━━━━━━━━━━━━━━━━━━━━━━━━━━ 2.3/2.3 MB 160.8 MB/s eta 0:00:00\u001b[0m\n",
      "\u001b[34mInstalling collected packages: widgetsnbextension, opencv-python-headless, jupyterlab-widgets, opensearch-py, botocore, s3transfer, ipywidgets, boto3\u001b[0m\n",
      "\u001b[34m  Attempting uninstall: botocore\n",
      "    Found existing installation: botocore 1.32.7\n",
      "    Uninstalling botocore-1.32.7:\n",
      "      Successfully uninstalled botocore-1.32.7\u001b[0m\n",
      "\u001b[34m  Attempting uninstall: s3transfer\n",
      "    Found existing installation: s3transfer 0.8.0\n",
      "    Uninstalling s3transfer-0.8.0:\n",
      "      Successfully uninstalled s3transfer-0.8.0\n",
      "  Attempting uninstall: boto3\n",
      "    Found existing installation: boto3 1.29.7\n",
      "    Uninstalling boto3-1.29.7:\n",
      "      Successfully uninstalled boto3-1.29.7\u001b[0m\n",
      "\u001b[34mERROR: pip's dependency resolver does not currently take into account all the packages that are installed. This behaviour is the source of the following dependency conflicts.\u001b[0m\n",
      "\u001b[34mawscli 1.30.7 requires botocore==1.32.7, but you have botocore 1.34.74 which is incompatible.\u001b[0m\n",
      "\u001b[34mawscli 1.30.7 requires s3transfer<0.9.0,>=0.8.0, but you have s3transfer 0.10.1 which is incompatible.\u001b[0m\n",
      "\u001b[34mSuccessfully installed boto3-1.34.62 botocore-1.34.74 ipywidgets-8.1.2 jupyterlab-widgets-3.0.10 opencv-python-headless-4.9.0.80 opensearch-py-2.5.0 s3transfer-0.10.1 widgetsnbextension-4.0.10\u001b[0m\n",
      "\u001b[34mWARNING: Running pip as the 'root' user can result in broken permissions and conflicting behaviour with the system package manager. It is recommended to use a virtual environment instead: https://pip.pypa.io/warnings/venv\u001b[0m\n",
      "\u001b[34m[notice] A new release of pip is available: 23.3.1 -> 24.0\u001b[0m\n",
      "\u001b[34m[notice] To update, run: pip install --upgrade pip\u001b[0m\n",
      "\u001b[34msagemaker.config INFO - Not applying SDK defaults from location: /etc/xdg/sagemaker/config.yaml\u001b[0m\n",
      "\u001b[34msagemaker.config INFO - Not applying SDK defaults from location: /root/.config/sagemaker/config.yaml\u001b[0m\n",
      "\u001b[34mcheck video files ...\u001b[0m\n",
      "\u001b[34mprocess begin ...\u001b[0m\n",
      "\u001b[34mprocess file: /opt/ml/processing/input/videos/AdobeStock_384597062.mov...\u001b[0m\n"
     ]
    },
    {
     "name": "stdout",
     "output_type": "stream",
     "text": [
      "\u001b[34mframe rate is 59.96002664890073 per second\u001b[0m\n",
      "\u001b[34mnumber of frames: 5\u001b[0m\n",
      "\u001b[34mTraceback (most recent call last):\n",
      "  File \"/opt/ml/processing/input/code/video_ingestion.py\", line 50, in <module>\n",
      "    frames = upload_frames(output_dir, args.bucket, args.prefix, entry.path.split('/')[-1], fps)\n",
      "  File \"/opt/ml/processing/input/code/helper.py\", line 396, in upload_frames\n",
      "    response = generate_caption(image_base64, text_query=\"What is in this image in 50 words?\")\n",
      "  File \"/opt/ml/processing/input/code/helper.py\", line 489, in generate_caption\n",
      "    response = bedrock_runtime.invoke_model(\n",
      "  File \"/opt/conda/lib/python3.10/site-packages/botocore/client.py\", line 565, in _api_call\n",
      "    return self._make_api_call(operation_name, kwargs)\n",
      "  File \"/opt/conda/lib/python3.10/site-packages/botocore/client.py\", line 1021, in _make_api_call\n",
      "    raise error_class(parsed_response, operation_name)\u001b[0m\n",
      "\u001b[34mbotocore.errorfactory.AccessDeniedException: An error occurred (AccessDeniedException) when calling the InvokeModel operation: Your account does not have an agreement to this model.\u001b[0m\n",
      "\n"
     ]
    },
    {
     "ename": "UnexpectedStatusException",
     "evalue": "Error for Processing job multi-modal-search-2024-03-30-16-10-23--2024-03-30-16-10-23-432: Failed. Reason: AlgorithmError: See job logs for more information",
     "output_type": "error",
     "traceback": [
      "\u001b[0;31m---------------------------------------------------------------------------\u001b[0m",
      "\u001b[0;31mUnexpectedStatusException\u001b[0m                 Traceback (most recent call last)",
      "Cell \u001b[0;32mIn[15], line 16\u001b[0m\n\u001b[1;32m      6\u001b[0m pytorch_processor \u001b[38;5;241m=\u001b[39m PyTorchProcessor(\n\u001b[1;32m      7\u001b[0m     framework_version\u001b[38;5;241m=\u001b[39m\u001b[38;5;124m'\u001b[39m\u001b[38;5;124m2.0\u001b[39m\u001b[38;5;124m'\u001b[39m,\n\u001b[1;32m      8\u001b[0m     py_version\u001b[38;5;241m=\u001b[39m\u001b[38;5;124m\"\u001b[39m\u001b[38;5;124mpy310\u001b[39m\u001b[38;5;124m\"\u001b[39m,\n\u001b[0;32m   (...)\u001b[0m\n\u001b[1;32m     12\u001b[0m     base_job_name\u001b[38;5;241m=\u001b[39mname_from_base(prefix)\n\u001b[1;32m     13\u001b[0m )\n\u001b[1;32m     15\u001b[0m \u001b[38;5;66;03m#Run the processing job\u001b[39;00m\n\u001b[0;32m---> 16\u001b[0m \u001b[43mpytorch_processor\u001b[49m\u001b[38;5;241;43m.\u001b[39;49m\u001b[43mrun\u001b[49m\u001b[43m(\u001b[49m\n\u001b[1;32m     17\u001b[0m \u001b[43m    \u001b[49m\u001b[43mcode\u001b[49m\u001b[38;5;241;43m=\u001b[39;49m\u001b[38;5;124;43m'\u001b[39;49m\u001b[38;5;124;43mvideo_ingestion.py\u001b[39;49m\u001b[38;5;124;43m'\u001b[39;49m\u001b[43m,\u001b[49m\n\u001b[1;32m     18\u001b[0m \u001b[43m    \u001b[49m\u001b[43msource_dir\u001b[49m\u001b[38;5;241;43m=\u001b[39;49m\u001b[38;5;124;43m'\u001b[39;49m\u001b[38;5;124;43mcode_dir\u001b[39;49m\u001b[38;5;124;43m'\u001b[39;49m\u001b[43m,\u001b[49m\n\u001b[1;32m     19\u001b[0m \u001b[43m    \u001b[49m\u001b[43marguments\u001b[49m\u001b[38;5;241;43m=\u001b[39;49m\u001b[43m[\u001b[49m\u001b[38;5;124;43m\"\u001b[39;49m\u001b[38;5;124;43m--host\u001b[39;49m\u001b[38;5;124;43m\"\u001b[39;49m\u001b[43m,\u001b[49m\u001b[43m \u001b[49m\u001b[43mhost\u001b[49m\u001b[43m,\u001b[49m\u001b[43m \u001b[49m\u001b[38;5;124;43m\"\u001b[39;49m\u001b[38;5;124;43m--index_name\u001b[39;49m\u001b[38;5;124;43m\"\u001b[39;49m\u001b[43m,\u001b[49m\u001b[43m \u001b[49m\u001b[43mindex_name\u001b[49m\u001b[43m,\u001b[49m\u001b[43m \u001b[49m\n\u001b[1;32m     20\u001b[0m \u001b[43m              \u001b[49m\u001b[38;5;124;43m\"\u001b[39;49m\u001b[38;5;124;43m--prefix\u001b[39;49m\u001b[38;5;124;43m\"\u001b[39;49m\u001b[43m,\u001b[49m\u001b[43m \u001b[49m\u001b[43mprefix\u001b[49m\u001b[43m,\u001b[49m\u001b[43m \u001b[49m\u001b[38;5;124;43m\"\u001b[39;49m\u001b[38;5;124;43m--bucket\u001b[39;49m\u001b[38;5;124;43m\"\u001b[39;49m\u001b[43m,\u001b[49m\u001b[43m \u001b[49m\u001b[43mbucket\u001b[49m\u001b[43m,\u001b[49m\u001b[43m \u001b[49m\u001b[38;5;124;43m\"\u001b[39;49m\u001b[38;5;124;43m--region\u001b[39;49m\u001b[38;5;124;43m\"\u001b[39;49m\u001b[43m,\u001b[49m\u001b[43m \u001b[49m\u001b[43mregion\u001b[49m\u001b[43m]\u001b[49m\u001b[43m,\u001b[49m\n\u001b[1;32m     21\u001b[0m \u001b[43m    \u001b[49m\u001b[43minputs\u001b[49m\u001b[38;5;241;43m=\u001b[39;49m\u001b[43m[\u001b[49m\n\u001b[1;32m     22\u001b[0m \u001b[43m        \u001b[49m\u001b[43mProcessingInput\u001b[49m\u001b[43m(\u001b[49m\n\u001b[1;32m     23\u001b[0m \u001b[43m            \u001b[49m\u001b[43minput_name\u001b[49m\u001b[38;5;241;43m=\u001b[39;49m\u001b[38;5;124;43m'\u001b[39;49m\u001b[38;5;124;43mvideos\u001b[39;49m\u001b[38;5;124;43m'\u001b[39;49m\u001b[43m,\u001b[49m\n\u001b[1;32m     24\u001b[0m \u001b[43m            \u001b[49m\u001b[43msource\u001b[49m\u001b[38;5;241;43m=\u001b[39;49m\u001b[43ms3_video_dir\u001b[49m\u001b[43m,\u001b[49m\n\u001b[1;32m     25\u001b[0m \u001b[43m            \u001b[49m\u001b[43mdestination\u001b[49m\u001b[38;5;241;43m=\u001b[39;49m\u001b[38;5;124;43m'\u001b[39;49m\u001b[38;5;124;43m/opt/ml/processing/input/videos\u001b[39;49m\u001b[38;5;124;43m'\u001b[39;49m\n\u001b[1;32m     26\u001b[0m \u001b[43m        \u001b[49m\u001b[43m)\u001b[49m\n\u001b[1;32m     27\u001b[0m \u001b[43m    \u001b[49m\u001b[43m]\u001b[49m\n\u001b[1;32m     28\u001b[0m \u001b[43m)\u001b[49m\n",
      "File \u001b[0;32m~/anaconda3/envs/pytorch_p310/lib/python3.10/site-packages/sagemaker/workflow/pipeline_context.py:346\u001b[0m, in \u001b[0;36mrunnable_by_pipeline.<locals>.wrapper\u001b[0;34m(*args, **kwargs)\u001b[0m\n\u001b[1;32m    342\u001b[0m         \u001b[38;5;28;01mreturn\u001b[39;00m context\n\u001b[1;32m    344\u001b[0m     \u001b[38;5;28;01mreturn\u001b[39;00m _StepArguments(retrieve_caller_name(self_instance), run_func, \u001b[38;5;241m*\u001b[39margs, \u001b[38;5;241m*\u001b[39m\u001b[38;5;241m*\u001b[39mkwargs)\n\u001b[0;32m--> 346\u001b[0m \u001b[38;5;28;01mreturn\u001b[39;00m \u001b[43mrun_func\u001b[49m\u001b[43m(\u001b[49m\u001b[38;5;241;43m*\u001b[39;49m\u001b[43margs\u001b[49m\u001b[43m,\u001b[49m\u001b[43m \u001b[49m\u001b[38;5;241;43m*\u001b[39;49m\u001b[38;5;241;43m*\u001b[39;49m\u001b[43mkwargs\u001b[49m\u001b[43m)\u001b[49m\n",
      "File \u001b[0;32m~/anaconda3/envs/pytorch_p310/lib/python3.10/site-packages/sagemaker/processing.py:1770\u001b[0m, in \u001b[0;36mFrameworkProcessor.run\u001b[0;34m(self, code, source_dir, dependencies, git_config, inputs, outputs, arguments, wait, logs, job_name, experiment_config, kms_key)\u001b[0m\n\u001b[1;32m   1765\u001b[0m s3_runproc_sh, inputs, job_name \u001b[38;5;241m=\u001b[39m \u001b[38;5;28mself\u001b[39m\u001b[38;5;241m.\u001b[39m_pack_and_upload_code(\n\u001b[1;32m   1766\u001b[0m     code, source_dir, dependencies, git_config, job_name, inputs, kms_key\n\u001b[1;32m   1767\u001b[0m )\n\u001b[1;32m   1769\u001b[0m \u001b[38;5;66;03m# Submit a processing job.\u001b[39;00m\n\u001b[0;32m-> 1770\u001b[0m \u001b[38;5;28;01mreturn\u001b[39;00m \u001b[38;5;28;43msuper\u001b[39;49m\u001b[43m(\u001b[49m\u001b[43m)\u001b[49m\u001b[38;5;241;43m.\u001b[39;49m\u001b[43mrun\u001b[49m\u001b[43m(\u001b[49m\n\u001b[1;32m   1771\u001b[0m \u001b[43m    \u001b[49m\u001b[43mcode\u001b[49m\u001b[38;5;241;43m=\u001b[39;49m\u001b[43ms3_runproc_sh\u001b[49m\u001b[43m,\u001b[49m\n\u001b[1;32m   1772\u001b[0m \u001b[43m    \u001b[49m\u001b[43minputs\u001b[49m\u001b[38;5;241;43m=\u001b[39;49m\u001b[43minputs\u001b[49m\u001b[43m,\u001b[49m\n\u001b[1;32m   1773\u001b[0m \u001b[43m    \u001b[49m\u001b[43moutputs\u001b[49m\u001b[38;5;241;43m=\u001b[39;49m\u001b[43moutputs\u001b[49m\u001b[43m,\u001b[49m\n\u001b[1;32m   1774\u001b[0m \u001b[43m    \u001b[49m\u001b[43marguments\u001b[49m\u001b[38;5;241;43m=\u001b[39;49m\u001b[43marguments\u001b[49m\u001b[43m,\u001b[49m\n\u001b[1;32m   1775\u001b[0m \u001b[43m    \u001b[49m\u001b[43mwait\u001b[49m\u001b[38;5;241;43m=\u001b[39;49m\u001b[43mwait\u001b[49m\u001b[43m,\u001b[49m\n\u001b[1;32m   1776\u001b[0m \u001b[43m    \u001b[49m\u001b[43mlogs\u001b[49m\u001b[38;5;241;43m=\u001b[39;49m\u001b[43mlogs\u001b[49m\u001b[43m,\u001b[49m\n\u001b[1;32m   1777\u001b[0m \u001b[43m    \u001b[49m\u001b[43mjob_name\u001b[49m\u001b[38;5;241;43m=\u001b[39;49m\u001b[43mjob_name\u001b[49m\u001b[43m,\u001b[49m\n\u001b[1;32m   1778\u001b[0m \u001b[43m    \u001b[49m\u001b[43mexperiment_config\u001b[49m\u001b[38;5;241;43m=\u001b[39;49m\u001b[43mexperiment_config\u001b[49m\u001b[43m,\u001b[49m\n\u001b[1;32m   1779\u001b[0m \u001b[43m    \u001b[49m\u001b[43mkms_key\u001b[49m\u001b[38;5;241;43m=\u001b[39;49m\u001b[43mkms_key\u001b[49m\u001b[43m,\u001b[49m\n\u001b[1;32m   1780\u001b[0m \u001b[43m\u001b[49m\u001b[43m)\u001b[49m\n",
      "File \u001b[0;32m~/anaconda3/envs/pytorch_p310/lib/python3.10/site-packages/sagemaker/workflow/pipeline_context.py:346\u001b[0m, in \u001b[0;36mrunnable_by_pipeline.<locals>.wrapper\u001b[0;34m(*args, **kwargs)\u001b[0m\n\u001b[1;32m    342\u001b[0m         \u001b[38;5;28;01mreturn\u001b[39;00m context\n\u001b[1;32m    344\u001b[0m     \u001b[38;5;28;01mreturn\u001b[39;00m _StepArguments(retrieve_caller_name(self_instance), run_func, \u001b[38;5;241m*\u001b[39margs, \u001b[38;5;241m*\u001b[39m\u001b[38;5;241m*\u001b[39mkwargs)\n\u001b[0;32m--> 346\u001b[0m \u001b[38;5;28;01mreturn\u001b[39;00m \u001b[43mrun_func\u001b[49m\u001b[43m(\u001b[49m\u001b[38;5;241;43m*\u001b[39;49m\u001b[43margs\u001b[49m\u001b[43m,\u001b[49m\u001b[43m \u001b[49m\u001b[38;5;241;43m*\u001b[39;49m\u001b[38;5;241;43m*\u001b[39;49m\u001b[43mkwargs\u001b[49m\u001b[43m)\u001b[49m\n",
      "File \u001b[0;32m~/anaconda3/envs/pytorch_p310/lib/python3.10/site-packages/sagemaker/processing.py:688\u001b[0m, in \u001b[0;36mScriptProcessor.run\u001b[0;34m(self, code, inputs, outputs, arguments, wait, logs, job_name, experiment_config, kms_key)\u001b[0m\n\u001b[1;32m    686\u001b[0m \u001b[38;5;28mself\u001b[39m\u001b[38;5;241m.\u001b[39mjobs\u001b[38;5;241m.\u001b[39mappend(\u001b[38;5;28mself\u001b[39m\u001b[38;5;241m.\u001b[39mlatest_job)\n\u001b[1;32m    687\u001b[0m \u001b[38;5;28;01mif\u001b[39;00m wait:\n\u001b[0;32m--> 688\u001b[0m     \u001b[38;5;28;43mself\u001b[39;49m\u001b[38;5;241;43m.\u001b[39;49m\u001b[43mlatest_job\u001b[49m\u001b[38;5;241;43m.\u001b[39;49m\u001b[43mwait\u001b[49m\u001b[43m(\u001b[49m\u001b[43mlogs\u001b[49m\u001b[38;5;241;43m=\u001b[39;49m\u001b[43mlogs\u001b[49m\u001b[43m)\u001b[49m\n",
      "File \u001b[0;32m~/anaconda3/envs/pytorch_p310/lib/python3.10/site-packages/sagemaker/processing.py:1113\u001b[0m, in \u001b[0;36mProcessingJob.wait\u001b[0;34m(self, logs)\u001b[0m\n\u001b[1;32m   1106\u001b[0m \u001b[38;5;250m\u001b[39m\u001b[38;5;124;03m\"\"\"Waits for the processing job to complete.\u001b[39;00m\n\u001b[1;32m   1107\u001b[0m \n\u001b[1;32m   1108\u001b[0m \u001b[38;5;124;03mArgs:\u001b[39;00m\n\u001b[1;32m   1109\u001b[0m \u001b[38;5;124;03m    logs (bool): Whether to show the logs produced by the job (default: True).\u001b[39;00m\n\u001b[1;32m   1110\u001b[0m \n\u001b[1;32m   1111\u001b[0m \u001b[38;5;124;03m\"\"\"\u001b[39;00m\n\u001b[1;32m   1112\u001b[0m \u001b[38;5;28;01mif\u001b[39;00m logs:\n\u001b[0;32m-> 1113\u001b[0m     \u001b[38;5;28;43mself\u001b[39;49m\u001b[38;5;241;43m.\u001b[39;49m\u001b[43msagemaker_session\u001b[49m\u001b[38;5;241;43m.\u001b[39;49m\u001b[43mlogs_for_processing_job\u001b[49m\u001b[43m(\u001b[49m\u001b[38;5;28;43mself\u001b[39;49m\u001b[38;5;241;43m.\u001b[39;49m\u001b[43mjob_name\u001b[49m\u001b[43m,\u001b[49m\u001b[43m \u001b[49m\u001b[43mwait\u001b[49m\u001b[38;5;241;43m=\u001b[39;49m\u001b[38;5;28;43;01mTrue\u001b[39;49;00m\u001b[43m)\u001b[49m\n\u001b[1;32m   1114\u001b[0m \u001b[38;5;28;01melse\u001b[39;00m:\n\u001b[1;32m   1115\u001b[0m     \u001b[38;5;28mself\u001b[39m\u001b[38;5;241m.\u001b[39msagemaker_session\u001b[38;5;241m.\u001b[39mwait_for_processing_job(\u001b[38;5;28mself\u001b[39m\u001b[38;5;241m.\u001b[39mjob_name)\n",
      "File \u001b[0;32m~/anaconda3/envs/pytorch_p310/lib/python3.10/site-packages/sagemaker/session.py:5842\u001b[0m, in \u001b[0;36mSession.logs_for_processing_job\u001b[0;34m(self, job_name, wait, poll)\u001b[0m\n\u001b[1;32m   5839\u001b[0m             state \u001b[38;5;241m=\u001b[39m LogState\u001b[38;5;241m.\u001b[39mJOB_COMPLETE\n\u001b[1;32m   5841\u001b[0m \u001b[38;5;28;01mif\u001b[39;00m wait:\n\u001b[0;32m-> 5842\u001b[0m     \u001b[43m_check_job_status\u001b[49m\u001b[43m(\u001b[49m\u001b[43mjob_name\u001b[49m\u001b[43m,\u001b[49m\u001b[43m \u001b[49m\u001b[43mdescription\u001b[49m\u001b[43m,\u001b[49m\u001b[43m \u001b[49m\u001b[38;5;124;43m\"\u001b[39;49m\u001b[38;5;124;43mProcessingJobStatus\u001b[39;49m\u001b[38;5;124;43m\"\u001b[39;49m\u001b[43m)\u001b[49m\n\u001b[1;32m   5843\u001b[0m     \u001b[38;5;28;01mif\u001b[39;00m dot:\n\u001b[1;32m   5844\u001b[0m         \u001b[38;5;28mprint\u001b[39m()\n",
      "File \u001b[0;32m~/anaconda3/envs/pytorch_p310/lib/python3.10/site-packages/sagemaker/session.py:8048\u001b[0m, in \u001b[0;36m_check_job_status\u001b[0;34m(job, desc, status_key_name)\u001b[0m\n\u001b[1;32m   8042\u001b[0m \u001b[38;5;28;01mif\u001b[39;00m \u001b[38;5;124m\"\u001b[39m\u001b[38;5;124mCapacityError\u001b[39m\u001b[38;5;124m\"\u001b[39m \u001b[38;5;129;01min\u001b[39;00m \u001b[38;5;28mstr\u001b[39m(reason):\n\u001b[1;32m   8043\u001b[0m     \u001b[38;5;28;01mraise\u001b[39;00m exceptions\u001b[38;5;241m.\u001b[39mCapacityError(\n\u001b[1;32m   8044\u001b[0m         message\u001b[38;5;241m=\u001b[39mmessage,\n\u001b[1;32m   8045\u001b[0m         allowed_statuses\u001b[38;5;241m=\u001b[39m[\u001b[38;5;124m\"\u001b[39m\u001b[38;5;124mCompleted\u001b[39m\u001b[38;5;124m\"\u001b[39m, \u001b[38;5;124m\"\u001b[39m\u001b[38;5;124mStopped\u001b[39m\u001b[38;5;124m\"\u001b[39m],\n\u001b[1;32m   8046\u001b[0m         actual_status\u001b[38;5;241m=\u001b[39mstatus,\n\u001b[1;32m   8047\u001b[0m     )\n\u001b[0;32m-> 8048\u001b[0m \u001b[38;5;28;01mraise\u001b[39;00m exceptions\u001b[38;5;241m.\u001b[39mUnexpectedStatusException(\n\u001b[1;32m   8049\u001b[0m     message\u001b[38;5;241m=\u001b[39mmessage,\n\u001b[1;32m   8050\u001b[0m     allowed_statuses\u001b[38;5;241m=\u001b[39m[\u001b[38;5;124m\"\u001b[39m\u001b[38;5;124mCompleted\u001b[39m\u001b[38;5;124m\"\u001b[39m, \u001b[38;5;124m\"\u001b[39m\u001b[38;5;124mStopped\u001b[39m\u001b[38;5;124m\"\u001b[39m],\n\u001b[1;32m   8051\u001b[0m     actual_status\u001b[38;5;241m=\u001b[39mstatus,\n\u001b[1;32m   8052\u001b[0m )\n",
      "\u001b[0;31mUnexpectedStatusException\u001b[0m: Error for Processing job multi-modal-search-2024-03-30-16-10-23--2024-03-30-16-10-23-432: Failed. Reason: AlgorithmError: See job logs for more information"
     ]
    }
   ],
   "source": [
    "from sagemaker.pytorch.processing import PyTorchProcessor\n",
    "from sagemaker.processing import ProcessingInput, ProcessingOutput\n",
    "from sagemaker import get_execution_role\n",
    "\n",
    "#Initialize the PyTorchProcessor\n",
    "pytorch_processor = PyTorchProcessor(\n",
    "    framework_version='2.0',\n",
    "    py_version=\"py310\",\n",
    "    role=get_execution_role(),\n",
    "    instance_type='ml.g4dn.4xlarge',\n",
    "    instance_count=1,\n",
    "    base_job_name=name_from_base(prefix)\n",
    ")\n",
    "\n",
    "#Run the processing job\n",
    "pytorch_processor.run(\n",
    "    code='video_ingestion.py',\n",
    "    source_dir='code_dir',\n",
    "    arguments=[\"--host\", host, \"--index_name\", index_name, \n",
    "              \"--prefix\", prefix, \"--bucket\", bucket, \"--region\", region],\n",
    "    inputs=[\n",
    "        ProcessingInput(\n",
    "            input_name='videos',\n",
    "            source=s3_video_dir,\n",
    "            destination='/opt/ml/processing/input/videos'\n",
    "        )\n",
    "    ]\n",
    ")"
   ]
  },
  {
   "cell_type": "markdown",
   "id": "d6137b57-3a7d-422c-8c7a-47fc0fde3afa",
   "metadata": {},
   "source": [
    "### > Local ingestion testing"
   ]
  },
  {
   "cell_type": "code",
   "execution_count": null,
   "id": "bec1c904-c52a-4e37-85b6-2a47c6e70c59",
   "metadata": {},
   "outputs": [],
   "source": [
    "!rm -rf `find -type d -name .ipynb_checkpoints`"
   ]
  },
  {
   "cell_type": "code",
   "execution_count": null,
   "id": "d36e1305-8bf5-4b57-bb6e-bf33c14e291a",
   "metadata": {},
   "outputs": [],
   "source": [
    "try:\n",
    "    entries = os.scandir(\"dog\")#video_dir)\n",
    "except FileNotFoundError as e:\n",
    "    print(f\"Could not scan folder: {e}\")\n",
    "    raise\n",
    "except OSError as e: \n",
    "    print(f\"Could not scan folder: {e}\")\n",
    "    raise"
   ]
  },
  {
   "cell_type": "markdown",
   "id": "c9bd041e-886f-4181-a6fa-b42da0a9bee9",
   "metadata": {},
   "source": [
    "### > Process videos\n",
    "\n",
    "The processing include following steps:\n",
    "1. extract key frames from video\n",
    "2. upload to s3 and build the index\n",
    "3. ingest index to opensearch"
   ]
  },
  {
   "cell_type": "code",
   "execution_count": null,
   "id": "edb56e2f-8a8f-4139-b0d2-3c2319830c13",
   "metadata": {},
   "outputs": [],
   "source": [
    "from code_dir.helper import extract_key_frames, upload_frames\n",
    "from code_dir.opensearch_util import bulk_index_ingestion\n",
    "from tqdm import tqdm\n",
    "\n",
    "for entry in tqdm(entries):\n",
    "    try:\n",
    "        if entry.is_file() and entry.path.endswith((\".mp4\", \".mkv\", \".mov\")): \n",
    "\n",
    "            print(f\"process file: {entry.path}...\")\n",
    "            # extract key frames from video\n",
    "            output_dir, fps = extract_key_frames(entry.path)\n",
    "            print(f\"frame rate is {fps} per second\")\n",
    "\n",
    "            print(f\"number of frames: {len(os.listdir(output_dir))}\")\n",
    "            # upload fames to s3\n",
    "            frames = upload_frames(output_dir, bucket, prefix, entry.path.split('/')[-1], fps)\n",
    "            print(f\"upload frames to s3 bucket...\")\n",
    "\n",
    "            # ingest the index file into opensearch\n",
    "            sucess, failed = bulk_index_ingestion(host, index_name, frames)\n",
    "            \n",
    "    except OSError as e: \n",
    "        print(f\"Could not read entry {entry.path}: {e}\")"
   ]
  },
  {
   "cell_type": "code",
   "execution_count": null,
   "id": "eb159d72-ea71-4884-9179-988d694d9332",
   "metadata": {},
   "outputs": [],
   "source": [
    "import os\n",
    "import random\n",
    "from IPython.display import display, Image\n",
    "\n",
    "# Get a list of all image files in the folder\n",
    "image_files = [f for f in os.listdir(output_dir) if f.endswith(('.jpg', '.png', '.gif'))]\n",
    "\n",
    "# Display the sampled images\n",
    "for image_file in image_files:\n",
    "    image_path = os.path.join(output_dir, image_file)\n",
    "    display(Image(filename=image_path))"
   ]
  },
  {
   "cell_type": "markdown",
   "id": "e28686d8-f9cf-47cb-bc08-b3e11a51000c",
   "metadata": {},
   "source": [
    "### > Test Multi-modal text search"
   ]
  },
  {
   "cell_type": "code",
   "execution_count": null,
   "id": "c3470424-13e3-4ece-ab19-9816f60ff22a",
   "metadata": {},
   "outputs": [],
   "source": [
    "# build opensearch query\n",
    "query = {\n",
    "    \"size\": 10,\n",
    "    \"query\":{\n",
    "        \"knn\": {\n",
    "        \"multimodal_vector\": {\n",
    "            \"vector\": [],\n",
    "            \"k\": 5\n",
    "        }\n",
    "        }\n",
    "    },\n",
    "    \"_source\": [\"video\", \n",
    "                \"bucket\", \n",
    "                \"video_key\" , \n",
    "                \"frame_key\", \n",
    "                \"caption\", \n",
    "                \"timestamp\", \n",
    "                \"embedding_type\"]\n",
    "\n",
    "    }"
   ]
  },
  {
   "cell_type": "code",
   "execution_count": null,
   "id": "9b23ed00-2e7d-4d05-af08-2778613ac344",
   "metadata": {},
   "outputs": [],
   "source": [
    "from code_dir.helper import opensearch_query, render_search_result, get_embedding, encode_image_to_base64\n",
    "from IPython.display import display, clear_output\n",
    "\n",
    "\n",
    "query[\"query\"][\"knn\"][\"multimodal_vector\"][\"vector\"] = get_embedding(text_description=\"Show me a race car driver\")\n",
    "        \n",
    "results = opensearch_query(query,\n",
    "                            host=host,\n",
    "                           index_name=index_name)\n",
    "\n",
    "display(render_search_result(results))"
   ]
  },
  {
   "cell_type": "markdown",
   "id": "3036b9fe-4775-4fcd-8d94-7dfb604f51a8",
   "metadata": {},
   "source": [
    "### > Test MM mage Search"
   ]
  },
  {
   "cell_type": "code",
   "execution_count": null,
   "id": "bd9720dc-cb97-4086-babf-d2c983be108b",
   "metadata": {},
   "outputs": [],
   "source": [
    "image_base64 = encode_image_to_base64(\"test-image.jpg\")\n",
    "\n",
    "query[\"query\"][\"knn\"][\"multimodal_vector\"][\"vector\"] = get_embedding(image_base64=image_base64)\n",
    "        \n",
    "results = opensearch_query(query, \n",
    "                           host = host,\n",
    "                           index_name=index_name)\n",
    "\n",
    "display(render_search_result(results))"
   ]
  },
  {
   "cell_type": "markdown",
   "id": "a9eaed7b-1dc3-4792-88fe-aa19dc09b7d1",
   "metadata": {},
   "source": [
    "### > Interactive UI\n",
    "\n",
    "Have fun.....!\n",
    "\n",
    "Here are some sample prompts:\n",
    "\n",
    "- cute dog running on grass\n",
    "- flying squiral\n",
    "- a bunny flying a kite\n",
    "- Game of thrones"
   ]
  },
  {
   "cell_type": "code",
   "execution_count": null,
   "id": "3d7f84e1-ad79-4291-b544-e450b0bcd7aa",
   "metadata": {},
   "outputs": [],
   "source": [
    "import ipywidgets as ipw\n",
    "class ChatUX:\n",
    "    \"\"\" A chat UX using IPWidgets\n",
    "    \"\"\"\n",
    "    def __init__(self, qa):\n",
    "        self.qa = qa\n",
    "        self.name = None\n",
    "        self.b=None\n",
    "        self.out = ipw.Output()\n",
    "        self.session_id = None\n",
    "\n",
    "    def start_chat(self):\n",
    "        print(\"Let's chat!\")\n",
    "        display(self.out)\n",
    "        self.chat(None)\n",
    "\n",
    "    def chat(self, _):\n",
    "        if self.name is None:\n",
    "            prompt = \"\"\n",
    "        else:\n",
    "            prompt = self.name.value\n",
    "        if 'q' == prompt or 'quit' == prompt or 'Q' == prompt:\n",
    "            print(\"Thank you , that was a nice chat !!\")\n",
    "            return\n",
    "        elif len(prompt) > 0:\n",
    "            with self.out:\n",
    "                thinking = ipw.Label(value=f\"Thinking...\")\n",
    "                display(thinking)\n",
    "                try:\n",
    "                    query[\"query\"][\"knn\"][\"multimodal_vector\"][\"vector\"] = get_embedding(text_description=prompt)\n",
    "                    results = opensearch_query(query,\n",
    "                                               host=host,\n",
    "                                               index_name=index_name)\n",
    "\n",
    "                    output_results = render_search_result(results)\n",
    "                except Exception as e:\n",
    "                    print(e)\n",
    "                    output_results = \"No answer\"\n",
    "\n",
    "                thinking.value=\"\"\n",
    "                print(\"AI:\")\n",
    "                display(output_results)\n",
    "                self.name.disabled = True\n",
    "                self.b.disabled = True\n",
    "                self.name = None\n",
    "\n",
    "        if self.name is None:\n",
    "            with self.out:\n",
    "                self.name = ipw.Text(description=\"You: \", placeholder='q to quit')\n",
    "                self.b = ipw.Button(description=\"Send\")\n",
    "                self.b.on_click(self.chat)\n",
    "                display(ipw.Box(children=(self.name, self.b)))"
   ]
  },
  {
   "cell_type": "code",
   "execution_count": null,
   "id": "e4b50c6e-8adf-44e3-8402-0ce788e0199f",
   "metadata": {},
   "outputs": [],
   "source": [
    "agent_runtime_client = boto3.client('bedrock-runtime')\n",
    "\n",
    "chat = ChatUX(agent_runtime_client)\n",
    "chat.start_chat()"
   ]
  },
  {
   "cell_type": "code",
   "execution_count": null,
   "id": "66945f45-cc65-4e01-9ff7-ac1f07448088",
   "metadata": {},
   "outputs": [],
   "source": []
  }
 ],
 "metadata": {
  "kernelspec": {
   "display_name": "conda_pytorch_p310",
   "language": "python",
   "name": "conda_pytorch_p310"
  },
  "language_info": {
   "codemirror_mode": {
    "name": "ipython",
    "version": 3
   },
   "file_extension": ".py",
   "mimetype": "text/x-python",
   "name": "python",
   "nbconvert_exporter": "python",
   "pygments_lexer": "ipython3",
   "version": "3.10.13"
  }
 },
 "nbformat": 4,
 "nbformat_minor": 5
}
