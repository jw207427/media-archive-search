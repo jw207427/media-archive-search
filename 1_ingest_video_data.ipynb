{
 "cells": [
  {
   "cell_type": "markdown",
   "id": "dbc61d2b-e3c1-48e2-b3d1-0c6793b25243",
   "metadata": {},
   "source": [
    "### > Setup ffmpeg"
   ]
  },
  {
   "cell_type": "code",
   "execution_count": 3,
   "id": "1e77ff9d-f0d2-4961-b9b9-9a9eef1f6c80",
   "metadata": {
    "scrolled": true
   },
   "outputs": [
    {
     "name": "stdout",
     "output_type": "stream",
     "text": [
      "Get:1 http://security.ubuntu.com/ubuntu jammy-security InRelease [110 kB]\n",
      "Hit:2 http://archive.ubuntu.com/ubuntu jammy InRelease\n",
      "Get:3 http://archive.ubuntu.com/ubuntu jammy-updates InRelease [119 kB]\n",
      "Hit:4 http://archive.ubuntu.com/ubuntu jammy-backports InRelease\n",
      "Get:5 http://archive.ubuntu.com/ubuntu jammy-updates/main amd64 Packages [1796 kB]\n",
      "Fetched 2025 kB in 2s (1056 kB/s)\n",
      "Reading package lists...\n"
     ]
    },
    {
     "name": "stderr",
     "output_type": "stream",
     "text": [
      "\n",
      "WARNING: apt does not have a stable CLI interface. Use with caution in scripts.\n",
      "\n"
     ]
    },
    {
     "name": "stdout",
     "output_type": "stream",
     "text": [
      "Reading package lists...\n",
      "Building dependency tree...\n",
      "Reading state information...\n",
      "Calculating upgrade...\n",
      "0 upgraded, 0 newly installed, 0 to remove and 0 not upgraded.\n",
      "Reading package lists...\n",
      "Building dependency tree...\n",
      "Reading state information...\n",
      "ffmpeg is already the newest version (7:4.4.2-0ubuntu0.22.04.1).\n",
      "0 upgraded, 0 newly installed, 0 to remove and 0 not upgraded.\n"
     ]
    }
   ],
   "source": [
    "%%sh\n",
    "sudo apt-get update && sudo apt upgrade -y\n",
    "\n",
    "sudo apt-get install ffmpeg -y"
   ]
  },
  {
   "cell_type": "markdown",
   "id": "fd7f4856-0ddb-4874-8061-d801d3fd5b2d",
   "metadata": {},
   "source": [
    "### > Initialize parameters"
   ]
  },
  {
   "cell_type": "code",
   "execution_count": 2,
   "id": "699cdf9e-b99d-467c-a095-4ff802a14f77",
   "metadata": {},
   "outputs": [
    {
     "name": "stdout",
     "output_type": "stream",
     "text": [
      "sagemaker.config INFO - Not applying SDK defaults from location: /etc/xdg/sagemaker/config.yaml\n",
      "sagemaker.config INFO - Not applying SDK defaults from location: /home/sagemaker-user/.config/sagemaker/config.yaml\n",
      "Opensearch hosting url: qvbu68t99vmrupahu4i2.us-west-2.aoss.amazonaws.com\n",
      "Opensearch index name: mm-search-2024-03-03-02-39-43-750\n"
     ]
    }
   ],
   "source": [
    "import boto3\n",
    "import sagemaker\n",
    "from sagemaker.utils import name_from_base\n",
    "import shutil\n",
    "import os\n",
    "\n",
    "sagemaker_session = sagemaker.Session()\n",
    "\n",
    "bucket = sagemaker_session.default_bucket()\n",
    "region = sagemaker_session._region_name\n",
    "\n",
    "prefix = \"multi-modal-search\"\n",
    "\n",
    "s3_client = boto3.client('s3')\n",
    "\n",
    "video_dir = 'videos' # BigBuckBunny.mp4' #TearsOfSteel.mp4'  #\n",
    "\n",
    "# load the host and index_name for opensearch\n",
    "%store -r host\n",
    "%store -r index_name\n",
    "\n",
    "print(f\"Opensearch hosting url: {host}\")\n",
    "print(f\"Opensearch index name: {index_name}\")"
   ]
  },
  {
   "cell_type": "markdown",
   "id": "83494a48-1d6e-44b0-b2de-d7f3e7abeaa7",
   "metadata": {},
   "source": [
    "### > download and setup videos"
   ]
  },
  {
   "cell_type": "code",
   "execution_count": 3,
   "id": "9d6a566d-7775-487e-ba10-049d2dba90f5",
   "metadata": {},
   "outputs": [],
   "source": [
    "if os.path.exists(video_dir):\n",
    "    # Remove existing folder\n",
    "    shutil.rmtree(video_dir)\n",
    "    \n",
    "# Create new folder\n",
    "os.makedirs(video_dir)"
   ]
  },
  {
   "cell_type": "code",
   "execution_count": 4,
   "id": "d1d150c3-2856-4fcb-9805-8500a79f49b0",
   "metadata": {
    "scrolled": true
   },
   "outputs": [
    {
     "name": "stdout",
     "output_type": "stream",
     "text": [
      "  % Total    % Received % Xferd  Average Speed   Time    Time     Time  Current\n",
      "                                 Dload  Upload   Total   Spent    Left  Speed\n",
      "100  7692  100  7692    0     0  33669      0 --:--:-- --:--:-- --:--:-- 33736\n",
      "  % Total    % Received % Xferd  Average Speed   Time    Time     Time  Current\n",
      "                                 Dload  Upload   Total   Spent    Left  Speed\n",
      "100  150M  100  150M    0     0   128M      0  0:00:01  0:00:01 --:--:--  128M\n",
      "  % Total    % Received % Xferd  Average Speed   Time    Time     Time  Current\n",
      "                                 Dload  Upload   Total   Spent    Left  Speed\n",
      "100  161M  100  161M    0     0  35.1M      0  0:00:04  0:00:04 --:--:-- 35.1M\n",
      "  % Total    % Received % Xferd  Average Speed   Time    Time     Time  Current\n",
      "                                 Dload  Upload   Total   Spent    Left  Speed\n",
      "100 2439k  100 2439k    0     0  23.8M      0 --:--:-- --:--:-- --:--:-- 24.0M\n",
      "  % Total    % Received % Xferd  Average Speed   Time    Time     Time  Current\n",
      "                                 Dload  Upload   Total   Spent    Left  Speed\n",
      "100 2245k  100 2245k    0     0  18.8M      0 --:--:-- --:--:-- --:--:-- 18.7M\n",
      "  % Total    % Received % Xferd  Average Speed   Time    Time     Time  Current\n",
      "                                 Dload  Upload   Total   Spent    Left  Speed\n",
      "100 12.3M  100 12.3M    0     0  80.1M      0 --:--:-- --:--:-- --:--:-- 80.5M\n",
      "  % Total    % Received % Xferd  Average Speed   Time    Time     Time  Current\n",
      "                                 Dload  Upload   Total   Spent    Left  Speed\n",
      "100 2317k  100 2317k    0     0  21.4M      0 --:--:-- --:--:-- --:--:-- 21.5M\n",
      "  % Total    % Received % Xferd  Average Speed   Time    Time     Time  Current\n",
      "                                 Dload  Upload   Total   Spent    Left  Speed\n",
      "100 2199k  100 2199k    0     0  18.7M      0 --:--:-- --:--:-- --:--:-- 18.8M\n",
      "  % Total    % Received % Xferd  Average Speed   Time    Time     Time  Current\n",
      "                                 Dload  Upload   Total   Spent    Left  Speed\n",
      "100  181M  100  181M    0     0  69.3M      0  0:00:02  0:00:02 --:--:-- 69.3M\n",
      "  % Total    % Received % Xferd  Average Speed   Time    Time     Time  Current\n",
      "                                 Dload  Upload   Total   Spent    Left  Speed\n",
      "100 45.8M  100 45.8M    0     0  69.4M      0 --:--:-- --:--:-- --:--:-- 69.5M\n",
      "  % Total    % Received % Xferd  Average Speed   Time    Time     Time  Current\n",
      "                                 Dload  Upload   Total   Spent    Left  Speed\n",
      "100  177M  100  177M    0     0   157M      0  0:00:01  0:00:01 --:--:--  157M\n",
      "  % Total    % Received % Xferd  Average Speed   Time    Time     Time  Current\n",
      "                                 Dload  Upload   Total   Spent    Left  Speed\n",
      "100 41.7M  100 41.7M    0     0  31.9M      0  0:00:01  0:00:01 --:--:-- 31.9M\n",
      "  % Total    % Received % Xferd  Average Speed   Time    Time     Time  Current\n",
      "                                 Dload  Upload   Total   Spent    Left  Speed\n",
      "100 12.5M  100 12.5M    0     0  31.1M      0 --:--:-- --:--:-- --:--:-- 31.1M\n",
      "  % Total    % Received % Xferd  Average Speed   Time    Time     Time  Current\n",
      "                                 Dload  Upload   Total   Spent    Left  Speed\n",
      "100 43.4M  100 43.4M    0     0  67.7M      0 --:--:-- --:--:-- --:--:-- 67.7M\n"
     ]
    }
   ],
   "source": [
    "!cd {video_dir} && curl https://gist.githubusercontent.com/jsturgis/3b19447b304616f18657/raw/a8c1f60074542d28fa8da4fe58c3788610803a65/gistfile1.txt | grep -o 'http[^\"]*.mp4' | xargs -n 1 curl -O"
   ]
  },
  {
   "cell_type": "code",
   "execution_count": 5,
   "id": "11dd09c5-1505-4ade-a248-41069836e4cb",
   "metadata": {},
   "outputs": [
    {
     "name": "stdout",
     "output_type": "stream",
     "text": [
      "--2024-03-03 02:55:24--  https://d2yqlwoly7fl0b.cloudfront.net/super-slomo/samples/westiepoo.mov\n",
      "Resolving d2yqlwoly7fl0b.cloudfront.net (d2yqlwoly7fl0b.cloudfront.net)... 18.161.3.70, 18.161.3.85, 18.161.3.178, ...\n",
      "Connecting to d2yqlwoly7fl0b.cloudfront.net (d2yqlwoly7fl0b.cloudfront.net)|18.161.3.70|:443... connected.\n",
      "WARNING: cannot verify d2yqlwoly7fl0b.cloudfront.net's certificate, issued by ‘CN=Amazon RSA 2048 M01,O=Amazon,C=US’:\n",
      "  Unable to locally verify the issuer's authority.\n",
      "HTTP request sent, awaiting response... 200 OK\n",
      "Length: 8908629 (8.5M) [video/quicktime]\n",
      "Saving to: ‘videos/westiepoo.mov’\n",
      "\n",
      "videos/westiepoo.mo 100%[===================>]   8.50M  --.-KB/s    in 0.05s   \n",
      "\n",
      "2024-03-03 02:55:25 (160 MB/s) - ‘videos/westiepoo.mov’ saved [8908629/8908629]\n",
      "\n"
     ]
    }
   ],
   "source": [
    "CDN_URL = \"https://d2yqlwoly7fl0b.cloudfront.net/super-slomo\"\n",
    "\n",
    "SAMPLE_VIDEO = \"westiepoo.mov\"\n",
    "!wget -L {CDN_URL}/samples/{SAMPLE_VIDEO} -O videos/{SAMPLE_VIDEO} --no-check-certificate"
   ]
  },
  {
   "cell_type": "markdown",
   "id": "d6137b57-3a7d-422c-8c7a-47fc0fde3afa",
   "metadata": {},
   "source": [
    "### > Check videos are available"
   ]
  },
  {
   "cell_type": "code",
   "execution_count": 3,
   "id": "d36e1305-8bf5-4b57-bb6e-bf33c14e291a",
   "metadata": {},
   "outputs": [],
   "source": [
    "try:\n",
    "    entries = os.scandir(video_dir)\n",
    "except FileNotFoundError as e:\n",
    "    print(f\"Could not scan folder: {e}\")\n",
    "    raise\n",
    "except OSError as e: \n",
    "    print(f\"Could not scan folder: {e}\")\n",
    "    raise"
   ]
  },
  {
   "cell_type": "markdown",
   "id": "c9bd041e-886f-4181-a6fa-b42da0a9bee9",
   "metadata": {},
   "source": [
    "### > Process videos\n",
    "\n",
    "The processing include following steps:\n",
    "1. extract key frames from video\n",
    "2. upload to s3 and build the index\n",
    "3. ingest index to opensearch"
   ]
  },
  {
   "cell_type": "code",
   "execution_count": 4,
   "id": "edb56e2f-8a8f-4139-b0d2-3c2319830c13",
   "metadata": {},
   "outputs": [
    {
     "name": "stdout",
     "output_type": "stream",
     "text": [
      "sagemaker.config INFO - Not applying SDK defaults from location: /etc/xdg/sagemaker/config.yaml\n",
      "sagemaker.config INFO - Not applying SDK defaults from location: /home/sagemaker-user/.config/sagemaker/config.yaml\n",
      "sagemaker.config INFO - Not applying SDK defaults from location: /etc/xdg/sagemaker/config.yaml\n",
      "sagemaker.config INFO - Not applying SDK defaults from location: /home/sagemaker-user/.config/sagemaker/config.yaml\n"
     ]
    },
    {
     "name": "stderr",
     "output_type": "stream",
     "text": [
      "0it [00:00, ?it/s]"
     ]
    },
    {
     "name": "stdout",
     "output_type": "stream",
     "text": [
      "process file: videos/westiepoo.mov...\n",
      "frame rate is 25.0 per second\n",
      "upload frames to s3 bucket...\n"
     ]
    },
    {
     "name": "stderr",
     "output_type": "stream",
     "text": [
      "1it [00:01,  1.06s/it]"
     ]
    },
    {
     "name": "stdout",
     "output_type": "stream",
     "text": [
      "Indexed 1 documents\n",
      "process file: videos/BigBuckBunny.mp4...\n",
      "frame rate is 24.0 per second\n",
      "upload frames to s3 bucket...\n"
     ]
    },
    {
     "name": "stderr",
     "output_type": "stream",
     "text": [
      "3it [00:57, 21.04s/it]"
     ]
    },
    {
     "name": "stdout",
     "output_type": "stream",
     "text": [
      "Indexed 266 documents\n",
      "process file: videos/ElephantsDream.mp4...\n",
      "frame rate is 24.0 per second\n",
      "upload frames to s3 bucket...\n"
     ]
    },
    {
     "name": "stderr",
     "output_type": "stream",
     "text": [
      "4it [01:52, 32.88s/it]"
     ]
    },
    {
     "name": "stdout",
     "output_type": "stream",
     "text": [
      "Indexed 288 documents\n",
      "process file: videos/ForBiggerBlazes.mp4...\n",
      "frame rate is 23.976023976023978 per second\n",
      "upload frames to s3 bucket...\n"
     ]
    },
    {
     "name": "stderr",
     "output_type": "stream",
     "text": [
      "5it [01:54, 22.66s/it]"
     ]
    },
    {
     "name": "stdout",
     "output_type": "stream",
     "text": [
      "Indexed 8 documents\n",
      "process file: videos/ForBiggerEscapes.mp4...\n",
      "frame rate is 24.0 per second\n",
      "upload frames to s3 bucket...\n"
     ]
    },
    {
     "name": "stderr",
     "output_type": "stream",
     "text": [
      "6it [01:56, 16.01s/it]"
     ]
    },
    {
     "name": "stdout",
     "output_type": "stream",
     "text": [
      "Indexed 8 documents\n",
      "process file: videos/ForBiggerFun.mp4...\n",
      "frame rate is 23.976023976023978 per second\n",
      "upload frames to s3 bucket...\n"
     ]
    },
    {
     "name": "stderr",
     "output_type": "stream",
     "text": [
      "7it [02:03, 13.39s/it]"
     ]
    },
    {
     "name": "stdout",
     "output_type": "stream",
     "text": [
      "Indexed 36 documents\n",
      "process file: videos/ForBiggerJoyrides.mp4...\n",
      "frame rate is 24.0 per second\n",
      "upload frames to s3 bucket...\n"
     ]
    },
    {
     "name": "stderr",
     "output_type": "stream",
     "text": [
      "8it [02:05,  9.80s/it]"
     ]
    },
    {
     "name": "stdout",
     "output_type": "stream",
     "text": [
      "Indexed 7 documents\n",
      "process file: videos/ForBiggerMeltdowns.mp4...\n",
      "frame rate is 24.0 per second\n",
      "upload frames to s3 bucket...\n"
     ]
    },
    {
     "name": "stderr",
     "output_type": "stream",
     "text": [
      "9it [02:07,  7.41s/it]"
     ]
    },
    {
     "name": "stdout",
     "output_type": "stream",
     "text": [
      "Indexed 7 documents\n",
      "process file: videos/Sintel.mp4...\n",
      "frame rate is 24.000027027057463 per second\n",
      "upload frames to s3 bucket...\n"
     ]
    },
    {
     "name": "stderr",
     "output_type": "stream",
     "text": [
      "10it [03:24, 28.40s/it]"
     ]
    },
    {
     "name": "stdout",
     "output_type": "stream",
     "text": [
      "Indexed 408 documents\n",
      "process file: videos/SubaruOutbackOnStreetAndDirt.mp4...\n",
      "frame rate is 29.97002997002997 per second\n",
      "upload frames to s3 bucket...\n"
     ]
    },
    {
     "name": "stderr",
     "output_type": "stream",
     "text": [
      "11it [04:16, 35.75s/it]"
     ]
    },
    {
     "name": "stdout",
     "output_type": "stream",
     "text": [
      "Indexed 323 documents\n",
      "process file: videos/TearsOfSteel.mp4...\n",
      "frame rate is 24.0 per second\n",
      "upload frames to s3 bucket...\n"
     ]
    },
    {
     "name": "stderr",
     "output_type": "stream",
     "text": [
      "12it [05:19, 43.97s/it]"
     ]
    },
    {
     "name": "stdout",
     "output_type": "stream",
     "text": [
      "Indexed 335 documents\n",
      "process file: videos/VolkswagenGTIReview.mp4...\n",
      "frame rate is 29.97002997002997 per second\n",
      "upload frames to s3 bucket...\n"
     ]
    },
    {
     "name": "stderr",
     "output_type": "stream",
     "text": [
      "13it [06:11, 46.46s/it]"
     ]
    },
    {
     "name": "stdout",
     "output_type": "stream",
     "text": [
      "Indexed 316 documents\n",
      "process file: videos/WeAreGoingOnBullrun.mp4...\n",
      "frame rate is 24.0 per second\n",
      "upload frames to s3 bucket...\n"
     ]
    },
    {
     "name": "stderr",
     "output_type": "stream",
     "text": [
      "14it [06:21, 35.35s/it]"
     ]
    },
    {
     "name": "stdout",
     "output_type": "stream",
     "text": [
      "Indexed 49 documents\n",
      "process file: videos/WhatCarCanYouGetForAGrand.mp4...\n",
      "frame rate is 29.97002997002997 per second\n",
      "upload frames to s3 bucket...\n"
     ]
    },
    {
     "name": "stderr",
     "output_type": "stream",
     "text": [
      "15it [07:09, 28.65s/it]"
     ]
    },
    {
     "name": "stdout",
     "output_type": "stream",
     "text": [
      "Indexed 295 documents\n"
     ]
    },
    {
     "name": "stderr",
     "output_type": "stream",
     "text": [
      "\n"
     ]
    }
   ],
   "source": [
    "from helper import extract_key_frames, upload_frames\n",
    "from opensearch_util import bulk_index_ingestion\n",
    "from tqdm import tqdm\n",
    "\n",
    "for entry in tqdm(entries):\n",
    "    try:\n",
    "        if entry.is_file() and entry.path.endswith((\".mp4\", \".mkv\", \".mov\")): \n",
    "\n",
    "            print(f\"process file: {entry.path}...\")\n",
    "            # extract key frames from video\n",
    "            output_dir, fps = extract_key_frames(entry.path)\n",
    "            print(f\"frame rate is {fps} per second\")\n",
    "\n",
    "            # upload fames to s3\n",
    "            frames = upload_frames(output_dir, bucket, prefix, entry.path.split('/')[-1], fps)\n",
    "            print(f\"upload frames to s3 bucket...\")\n",
    "\n",
    "            # ingest the index file into opensearch\n",
    "            sucess, failed = bulk_index_ingestion(host, index_name, frames)\n",
    "            \n",
    "    except OSError as e: \n",
    "        print(f\"Could not read entry {entry.path}: {e}\")"
   ]
  },
  {
   "cell_type": "markdown",
   "id": "e28686d8-f9cf-47cb-bc08-b3e11a51000c",
   "metadata": {},
   "source": [
    "### > Test Multi-modal text search"
   ]
  },
  {
   "cell_type": "code",
   "execution_count": 8,
   "id": "6b26d782-bbfc-4896-b99b-de84a49a37ee",
   "metadata": {},
   "outputs": [
    {
     "data": {
      "application/vnd.jupyter.widget-view+json": {
       "model_id": "96503c1980c74202a09b0a303e54c55a",
       "version_major": 2,
       "version_minor": 0
      },
      "text/plain": [
       "HBox(children=(VBox(children=(Label(value='From video:\\nForBiggerBlazes.mp4\\nat time: 2373.63\\nScore: 64.76%')…"
      ]
     },
     "metadata": {},
     "output_type": "display_data"
    }
   ],
   "source": [
    "from helper import embed_and_search, render_search_result\n",
    "from IPython.display import display, clear_output\n",
    "\n",
    "results = embed_and_search(text_query=\"Game of thrones\", \n",
    "                           host = host,\n",
    "                           index_name=index_name, \n",
    "                          numb = 3)\n",
    "\n",
    "display(render_search_result(results))"
   ]
  },
  {
   "cell_type": "markdown",
   "id": "3036b9fe-4775-4fcd-8d94-7dfb604f51a8",
   "metadata": {},
   "source": [
    "### > Test MM mage Search"
   ]
  },
  {
   "cell_type": "code",
   "execution_count": 11,
   "id": "bd9720dc-cb97-4086-babf-d2c983be108b",
   "metadata": {},
   "outputs": [
    {
     "data": {
      "application/vnd.jupyter.widget-view+json": {
       "model_id": "52a876432e754dab937c52a9bd08f2db",
       "version_major": 2,
       "version_minor": 0
      },
      "text/plain": [
       "HBox(children=(VBox(children=(Label(value='From video:\\nForBiggerBlazes.mp4\\nat time: 4699.30\\nScore: 68.57%')…"
      ]
     },
     "metadata": {},
     "output_type": "display_data"
    }
   ],
   "source": [
    "results = embed_and_search(image_path=\"test02.jpeg\", \n",
    "                           host = host,\n",
    "                           index_name=index_name, \n",
    "                          numb = 3)\n",
    "\n",
    "display(render_search_result(results))"
   ]
  },
  {
   "cell_type": "markdown",
   "id": "a9eaed7b-1dc3-4792-88fe-aa19dc09b7d1",
   "metadata": {},
   "source": [
    "### > Interactive UI\n",
    "\n",
    "Have fun.....!\n",
    "\n",
    "Here are some sample prompts:\n",
    "\n",
    "- cute dog running on grass\n",
    "- flying squiral\n",
    "- a bunny flying a kite\n",
    "- Game of thrones"
   ]
  },
  {
   "cell_type": "code",
   "execution_count": 14,
   "id": "3d7f84e1-ad79-4291-b544-e450b0bcd7aa",
   "metadata": {},
   "outputs": [],
   "source": [
    "import ipywidgets as ipw\n",
    "class ChatUX:\n",
    "    \"\"\" A chat UX using IPWidgets\n",
    "    \"\"\"\n",
    "    def __init__(self, qa):\n",
    "        self.qa = qa\n",
    "        self.name = None\n",
    "        self.b=None\n",
    "        self.out = ipw.Output()\n",
    "        self.session_id = None\n",
    "\n",
    "    def start_chat(self):\n",
    "        print(\"Let's chat!\")\n",
    "        display(self.out)\n",
    "        self.chat(None)\n",
    "\n",
    "    def chat(self, _):\n",
    "        if self.name is None:\n",
    "            prompt = \"\"\n",
    "        else:\n",
    "            prompt = self.name.value\n",
    "        if 'q' == prompt or 'quit' == prompt or 'Q' == prompt:\n",
    "            print(\"Thank you , that was a nice chat !!\")\n",
    "            return\n",
    "        elif len(prompt) > 0:\n",
    "            with self.out:\n",
    "                thinking = ipw.Label(value=f\"Thinking...\")\n",
    "                display(thinking)\n",
    "                try:\n",
    "                    results = embed_and_search(text_query=prompt, \n",
    "                           host = host,\n",
    "                           index_name=index_name, \n",
    "                          numb = 3)\n",
    "                    output_results = render_search_result(results)\n",
    "                except Exception as e:\n",
    "                    print(e)\n",
    "                    output_results = \"No answer\"\n",
    "\n",
    "                thinking.value=\"\"\n",
    "                print(\"AI:\")\n",
    "                display(output_results)\n",
    "                self.name.disabled = True\n",
    "                self.b.disabled = True\n",
    "                self.name = None\n",
    "\n",
    "        if self.name is None:\n",
    "            with self.out:\n",
    "                self.name = ipw.Text(description=\"You: \", placeholder='q to quit')\n",
    "                self.b = ipw.Button(description=\"Send\")\n",
    "                self.b.on_click(self.chat)\n",
    "                display(ipw.Box(children=(self.name, self.b)))"
   ]
  },
  {
   "cell_type": "code",
   "execution_count": 15,
   "id": "e4b50c6e-8adf-44e3-8402-0ce788e0199f",
   "metadata": {},
   "outputs": [
    {
     "name": "stdout",
     "output_type": "stream",
     "text": [
      "Let's chat!\n"
     ]
    },
    {
     "data": {
      "application/vnd.jupyter.widget-view+json": {
       "model_id": "43400f467a4c488092dcab555d20d1a5",
       "version_major": 2,
       "version_minor": 0
      },
      "text/plain": [
       "Output()"
      ]
     },
     "metadata": {},
     "output_type": "display_data"
    }
   ],
   "source": [
    "agent_runtime_client = boto3.client('bedrock-runtime')\n",
    "\n",
    "chat = ChatUX(agent_runtime_client)\n",
    "chat.start_chat()"
   ]
  },
  {
   "cell_type": "code",
   "execution_count": null,
   "id": "66945f45-cc65-4e01-9ff7-ac1f07448088",
   "metadata": {},
   "outputs": [],
   "source": []
  }
 ],
 "metadata": {
  "kernelspec": {
   "display_name": "Python 3 (ipykernel)",
   "language": "python",
   "name": "python3"
  },
  "language_info": {
   "codemirror_mode": {
    "name": "ipython",
    "version": 3
   },
   "file_extension": ".py",
   "mimetype": "text/x-python",
   "name": "python",
   "nbconvert_exporter": "python",
   "pygments_lexer": "ipython3",
   "version": "3.10.13"
  }
 },
 "nbformat": 4,
 "nbformat_minor": 5
}
