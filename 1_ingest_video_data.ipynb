{
 "cells": [
  {
   "cell_type": "markdown",
   "id": "dbc61d2b-e3c1-48e2-b3d1-0c6793b25243",
   "metadata": {},
   "source": [
    "### > Setup ffmpeg"
   ]
  },
  {
   "cell_type": "code",
   "execution_count": null,
   "id": "1e77ff9d-f0d2-4961-b9b9-9a9eef1f6c80",
   "metadata": {
    "scrolled": true
   },
   "outputs": [],
   "source": [
    "%%sh\n",
    "sudo apt-get update && sudo apt upgrade -y\n",
    "\n",
    "sudo apt-get install ffmpeg -y\n",
    "\n",
    "pip install -U sagemaker"
   ]
  },
  {
   "cell_type": "markdown",
   "id": "fd7f4856-0ddb-4874-8061-d801d3fd5b2d",
   "metadata": {},
   "source": [
    "### > Initialize parameters"
   ]
  },
  {
   "cell_type": "code",
   "execution_count": 32,
   "id": "699cdf9e-b99d-467c-a095-4ff802a14f77",
   "metadata": {},
   "outputs": [
    {
     "name": "stdout",
     "output_type": "stream",
     "text": [
      "Opensearch hosting url: 9bmvaevz935xeno6njp4.us-west-2.aoss.amazonaws.com\n",
      "Opensearch index name: mm-search-2024-03-22-22-01-30-089\n"
     ]
    }
   ],
   "source": [
    "import boto3\n",
    "import sagemaker\n",
    "from sagemaker.utils import name_from_base\n",
    "import shutil\n",
    "import os\n",
    "\n",
    "sagemaker_session = sagemaker.Session()\n",
    "\n",
    "bucket = sagemaker_session.default_bucket()\n",
    "region = sagemaker_session._region_name\n",
    "\n",
    "prefix = \"multi-modal-search\"\n",
    "\n",
    "s3_client = boto3.client('s3')\n",
    "\n",
    "video_dir = 'videos' # BigBuckBunny.mp4' #TearsOfSteel.mp4'  #\n",
    "\n",
    "# load the host and index_name for opensearch\n",
    "%store -r host\n",
    "%store -r index_name\n",
    "\n",
    "print(f\"Opensearch hosting url: {host}\")\n",
    "print(f\"Opensearch index name: {index_name}\")"
   ]
  },
  {
   "cell_type": "markdown",
   "id": "83494a48-1d6e-44b0-b2de-d7f3e7abeaa7",
   "metadata": {},
   "source": [
    "### > download and setup videos"
   ]
  },
  {
   "cell_type": "code",
   "execution_count": 33,
   "id": "9d6a566d-7775-487e-ba10-049d2dba90f5",
   "metadata": {},
   "outputs": [],
   "source": [
    "if os.path.exists(video_dir):\n",
    "    # Remove existing folder\n",
    "    shutil.rmtree(video_dir)\n",
    "    \n",
    "# Create new folder\n",
    "os.makedirs(video_dir)"
   ]
  },
  {
   "cell_type": "code",
   "execution_count": 34,
   "id": "8b2f4c0c-0aaa-41da-bb37-ecc36880c85d",
   "metadata": {},
   "outputs": [],
   "source": [
    "videos=[\n",
    "    # “Shooting in motion for a football player”\n",
    "    \"https://d286ovwbajn9p7.cloudfront.net/AdobeStock_161973588.mov\",\n",
    "    # “Race to the Cloud”\n",
    "    \"https://d286ovwbajn9p7.cloudfront.net/RaceToTheCloud_444_PR_M_040623-FINAL_264.mp4\",\n",
    "    # \"Picchu\"\n",
    "    \"https://d286ovwbajn9p7.cloudfront.net/aws-picchu-edit-rendered.mp4\",\n",
    "    # \"AWS España Ya disponible\"\n",
    "    \"https://d286ovwbajn9p7.cloudfront.net/AWS_Espa%C3%B1a_Ya%20disponible.mp4\",\n",
    "    # \"Christmas fire\"\n",
    "    \"https://d286ovwbajn9p7.cloudfront.net/AdobeStock_384597062.mov\",\n",
    "    # \"westiepoo\"\n",
    "    \"https://d2yqlwoly7fl0b.cloudfront.net/super-slomo/samples/westiepoo.mov\",\n",
    "]"
   ]
  },
  {
   "cell_type": "code",
   "execution_count": 35,
   "id": "3d512f88-e087-44fa-baae-b9d60b34e449",
   "metadata": {
    "scrolled": true
   },
   "outputs": [
    {
     "name": "stdout",
     "output_type": "stream",
     "text": [
      "https://d286ovwbajn9p7.cloudfront.net/AdobeStock_161973588.mov\n",
      "--2024-03-23 00:29:12--  https://d286ovwbajn9p7.cloudfront.net/AdobeStock_161973588.mov\n",
      "Resolving d286ovwbajn9p7.cloudfront.net (d286ovwbajn9p7.cloudfront.net)... 3.163.19.182, 3.163.19.49, 3.163.19.30, ...\n",
      "Connecting to d286ovwbajn9p7.cloudfront.net (d286ovwbajn9p7.cloudfront.net)|3.163.19.182|:443... connected.\n",
      "WARNING: cannot verify d286ovwbajn9p7.cloudfront.net's certificate, issued by ‘CN=Amazon RSA 2048 M01,O=Amazon,C=US’:\n",
      "  Unable to locally verify the issuer's authority.\n",
      "HTTP request sent, awaiting response... 200 OK\n",
      "Length: 21564633 (21M) [video/quicktime]\n",
      "Saving to: ‘AdobeStock_161973588.mov’\n",
      "\n",
      "AdobeStock_16197358 100%[===================>]  20.57M  98.2MB/s    in 0.2s    \n",
      "\n",
      "2024-03-23 00:29:13 (98.2 MB/s) - ‘AdobeStock_161973588.mov’ saved [21564633/21564633]\n",
      "\n",
      "https://d286ovwbajn9p7.cloudfront.net/RaceToTheCloud_444_PR_M_040623-FINAL_264.mp4\n",
      "--2024-03-23 00:29:13--  https://d286ovwbajn9p7.cloudfront.net/RaceToTheCloud_444_PR_M_040623-FINAL_264.mp4\n",
      "Resolving d286ovwbajn9p7.cloudfront.net (d286ovwbajn9p7.cloudfront.net)... 3.163.19.23, 3.163.19.30, 3.163.19.49, ...\n",
      "Connecting to d286ovwbajn9p7.cloudfront.net (d286ovwbajn9p7.cloudfront.net)|3.163.19.23|:443... connected.\n",
      "WARNING: cannot verify d286ovwbajn9p7.cloudfront.net's certificate, issued by ‘CN=Amazon RSA 2048 M01,O=Amazon,C=US’:\n",
      "  Unable to locally verify the issuer's authority.\n",
      "HTTP request sent, awaiting response... 200 OK\n",
      "Length: 537364528 (512M) [video/mp4]\n",
      "Saving to: ‘RaceToTheCloud_444_PR_M_040623-FINAL_264.mp4’\n",
      "\n",
      "RaceToTheCloud_444_ 100%[===================>] 512.47M   167MB/s    in 3.1s    \n",
      "\n",
      "2024-03-23 00:29:16 (167 MB/s) - ‘RaceToTheCloud_444_PR_M_040623-FINAL_264.mp4’ saved [537364528/537364528]\n",
      "\n",
      "https://d286ovwbajn9p7.cloudfront.net/aws-picchu-edit-rendered.mp4\n",
      "--2024-03-23 00:29:16--  https://d286ovwbajn9p7.cloudfront.net/aws-picchu-edit-rendered.mp4\n",
      "Resolving d286ovwbajn9p7.cloudfront.net (d286ovwbajn9p7.cloudfront.net)... 3.163.19.182, 3.163.19.23, 3.163.19.30, ...\n",
      "Connecting to d286ovwbajn9p7.cloudfront.net (d286ovwbajn9p7.cloudfront.net)|3.163.19.182|:443... connected.\n",
      "WARNING: cannot verify d286ovwbajn9p7.cloudfront.net's certificate, issued by ‘CN=Amazon RSA 2048 M01,O=Amazon,C=US’:\n",
      "  Unable to locally verify the issuer's authority.\n",
      "HTTP request sent, awaiting response... 200 OK\n",
      "Length: 2881004985 (2.7G) [video/mp4]\n",
      "Saving to: ‘aws-picchu-edit-rendered.mp4’\n",
      "\n",
      "aws-picchu-edit-ren 100%[===================>]   2.68G   131MB/s    in 12s     \n",
      "\n",
      "2024-03-23 00:29:29 (227 MB/s) - ‘aws-picchu-edit-rendered.mp4’ saved [2881004985/2881004985]\n",
      "\n",
      "https://d286ovwbajn9p7.cloudfront.net/AWS_Espa%C3%B1a_Ya%20disponible.mp4\n",
      "--2024-03-23 00:29:29--  https://d286ovwbajn9p7.cloudfront.net/AWS_Espa%C3%B1a_Ya%20disponible.mp4\n",
      "Resolving d286ovwbajn9p7.cloudfront.net (d286ovwbajn9p7.cloudfront.net)... 3.163.19.49, 3.163.19.182, 3.163.19.23, ...\n",
      "Connecting to d286ovwbajn9p7.cloudfront.net (d286ovwbajn9p7.cloudfront.net)|3.163.19.49|:443... connected.\n",
      "WARNING: cannot verify d286ovwbajn9p7.cloudfront.net's certificate, issued by ‘CN=Amazon RSA 2048 M01,O=Amazon,C=US’:\n",
      "  Unable to locally verify the issuer's authority.\n",
      "HTTP request sent, awaiting response... 200 OK\n",
      "Length: 58097070 (55M) [video/mp4]\n",
      "Saving to: ‘AWS_España_Ya disponible.mp4’\n",
      "\n",
      "AWS_España_Ya dispo 100%[===================>]  55.41M   192MB/s    in 0.3s    \n",
      "\n",
      "2024-03-23 00:29:29 (192 MB/s) - ‘AWS_España_Ya disponible.mp4’ saved [58097070/58097070]\n",
      "\n",
      "https://d286ovwbajn9p7.cloudfront.net/AdobeStock_384597062.mov\n",
      "--2024-03-23 00:29:29--  https://d286ovwbajn9p7.cloudfront.net/AdobeStock_384597062.mov\n",
      "Resolving d286ovwbajn9p7.cloudfront.net (d286ovwbajn9p7.cloudfront.net)... 3.163.19.30, 3.163.19.49, 3.163.19.182, ...\n",
      "Connecting to d286ovwbajn9p7.cloudfront.net (d286ovwbajn9p7.cloudfront.net)|3.163.19.30|:443... connected.\n",
      "WARNING: cannot verify d286ovwbajn9p7.cloudfront.net's certificate, issued by ‘CN=Amazon RSA 2048 M01,O=Amazon,C=US’:\n",
      "  Unable to locally verify the issuer's authority.\n",
      "HTTP request sent, awaiting response... 200 OK\n",
      "Length: 580929853 (554M) [video/quicktime]\n",
      "Saving to: ‘AdobeStock_384597062.mov’\n",
      "\n",
      "AdobeStock_38459706 100%[===================>] 554.02M   231MB/s    in 2.4s    \n",
      "\n",
      "2024-03-23 00:29:32 (231 MB/s) - ‘AdobeStock_384597062.mov’ saved [580929853/580929853]\n",
      "\n",
      "https://d2yqlwoly7fl0b.cloudfront.net/super-slomo/samples/westiepoo.mov\n",
      "--2024-03-23 00:29:32--  https://d2yqlwoly7fl0b.cloudfront.net/super-slomo/samples/westiepoo.mov\n",
      "Resolving d2yqlwoly7fl0b.cloudfront.net (d2yqlwoly7fl0b.cloudfront.net)... 18.161.3.178, 18.161.3.7, 18.161.3.70, ...\n",
      "Connecting to d2yqlwoly7fl0b.cloudfront.net (d2yqlwoly7fl0b.cloudfront.net)|18.161.3.178|:443... connected.\n",
      "WARNING: cannot verify d2yqlwoly7fl0b.cloudfront.net's certificate, issued by ‘CN=Amazon RSA 2048 M01,O=Amazon,C=US’:\n",
      "  Unable to locally verify the issuer's authority.\n",
      "HTTP request sent, awaiting response... 200 OK\n",
      "Length: 8908629 (8.5M) [video/quicktime]\n",
      "Saving to: ‘westiepoo.mov’\n",
      "\n",
      "westiepoo.mov       100%[===================>]   8.50M  --.-KB/s    in 0.05s   \n",
      "\n",
      "2024-03-23 00:29:33 (165 MB/s) - ‘westiepoo.mov’ saved [8908629/8908629]\n",
      "\n"
     ]
    }
   ],
   "source": [
    "for v in videos:\n",
    "    print(v)\n",
    "    !cd {video_dir} && wget {v} --no-check-certificate"
   ]
  },
  {
   "cell_type": "code",
   "execution_count": 36,
   "id": "d1d150c3-2856-4fcb-9805-8500a79f49b0",
   "metadata": {
    "scrolled": true
   },
   "outputs": [],
   "source": [
    "# !cd {video_dir} && curl https://gist.githubusercontent.com/jsturgis/3b19447b304616f18657/raw/a8c1f60074542d28fa8da4fe58c3788610803a65/gistfile1.txt | grep -o 'http[^\"]*.mp4' | xargs -n 1 curl -O"
   ]
  },
  {
   "cell_type": "markdown",
   "id": "7d3110f7-c777-4963-b08e-f2bb85d07e77",
   "metadata": {},
   "source": [
    "### > upload videos to S3"
   ]
  },
  {
   "cell_type": "code",
   "execution_count": 37,
   "id": "d1da0c42-c713-43f4-bc8d-db339abe2052",
   "metadata": {},
   "outputs": [],
   "source": [
    "!rm -rf `find -type d -name .ipynb_checkpoints`"
   ]
  },
  {
   "cell_type": "code",
   "execution_count": 38,
   "id": "810ca845-1c4e-4142-afff-fff8cd412fcf",
   "metadata": {},
   "outputs": [],
   "source": [
    "s3_video_dir=f\"s3://{bucket}/{prefix}/videos/\"\n",
    "\n",
    "!aws s3 sync {video_dir} {s3_video_dir}"
   ]
  },
  {
   "cell_type": "code",
   "execution_count": 39,
   "id": "6e0a9a7e-8b36-4b32-b644-03a6b6f4d592",
   "metadata": {
    "scrolled": true
   },
   "outputs": [
    {
     "name": "stderr",
     "output_type": "stream",
     "text": [
      "INFO:sagemaker.image_uris:image_uri is not presented, retrieving image_uri based on instance_type, framework etc.\n",
      "INFO:sagemaker.processing:Uploaded code_dir to s3://sagemaker-us-west-2-374212921621/multi-modal-search-2024-03-23-00-29-34--2024-03-23-00-29-34-568/source/sourcedir.tar.gz\n",
      "INFO:sagemaker.processing:runproc.sh uploaded to s3://sagemaker-us-west-2-374212921621/multi-modal-search-2024-03-23-00-29-34--2024-03-23-00-29-34-568/source/runproc.sh\n",
      "INFO:sagemaker:Creating processing-job with name multi-modal-search-2024-03-23-00-29-34--2024-03-23-00-29-34-568\n"
     ]
    },
    {
     "name": "stdout",
     "output_type": "stream",
     "text": [
      "................................\u001b[34mWARNING: Skipping typing as it is not installed.\u001b[0m\n",
      "\u001b[34mWARNING: Running pip as the 'root' user can result in broken permissions and conflicting behaviour with the system package manager. It is recommended to use a virtual environment instead: https://pip.pypa.io/warnings/venv\u001b[0m\n",
      "\u001b[34mCollecting opencv-python-headless (from -r requirements.txt (line 1))\n",
      "  Downloading opencv_python_headless-4.9.0.80-cp37-abi3-manylinux_2_17_x86_64.manylinux2014_x86_64.whl.metadata (20 kB)\u001b[0m\n",
      "\u001b[34mCollecting opensearch-py (from -r requirements.txt (line 2))\n",
      "  Downloading opensearch_py-2.4.2-py2.py3-none-any.whl.metadata (6.8 kB)\u001b[0m\n",
      "\u001b[34mCollecting ipywidgets (from -r requirements.txt (line 3))\n",
      "  Downloading ipywidgets-8.1.2-py3-none-any.whl.metadata (2.4 kB)\u001b[0m\n",
      "\u001b[34mCollecting boto3==1.34.62 (from -r requirements.txt (line 4))\n",
      "  Downloading boto3-1.34.62-py3-none-any.whl.metadata (6.6 kB)\u001b[0m\n",
      "\u001b[34mCollecting botocore<1.35.0,>=1.34.62 (from boto3==1.34.62->-r requirements.txt (line 4))\n",
      "  Downloading botocore-1.34.69-py3-none-any.whl.metadata (5.7 kB)\u001b[0m\n",
      "\u001b[34mRequirement already satisfied: jmespath<2.0.0,>=0.7.1 in /opt/conda/lib/python3.10/site-packages (from boto3==1.34.62->-r requirements.txt (line 4)) (1.0.1)\u001b[0m\n",
      "\u001b[34mCollecting s3transfer<0.11.0,>=0.10.0 (from boto3==1.34.62->-r requirements.txt (line 4))\n",
      "  Downloading s3transfer-0.10.1-py3-none-any.whl.metadata (1.7 kB)\u001b[0m\n",
      "\u001b[34mRequirement already satisfied: numpy>=1.21.2 in /opt/conda/lib/python3.10/site-packages (from opencv-python-headless->-r requirements.txt (line 1)) (1.26.2)\u001b[0m\n",
      "\u001b[34mRequirement already satisfied: urllib3>=1.26.18 in /opt/conda/lib/python3.10/site-packages (from opensearch-py->-r requirements.txt (line 2)) (1.26.18)\u001b[0m\n",
      "\u001b[34mRequirement already satisfied: requests<3.0.0,>=2.4.0 in /opt/conda/lib/python3.10/site-packages (from opensearch-py->-r requirements.txt (line 2)) (2.31.0)\u001b[0m\n",
      "\u001b[34mRequirement already satisfied: six in /opt/conda/lib/python3.10/site-packages (from opensearch-py->-r requirements.txt (line 2)) (1.16.0)\u001b[0m\n",
      "\u001b[34mRequirement already satisfied: python-dateutil in /opt/conda/lib/python3.10/site-packages (from opensearch-py->-r requirements.txt (line 2)) (2.8.2)\u001b[0m\n",
      "\u001b[34mRequirement already satisfied: certifi>=2022.12.07 in /opt/conda/lib/python3.10/site-packages (from opensearch-py->-r requirements.txt (line 2)) (2023.11.17)\u001b[0m\n",
      "\u001b[34mRequirement already satisfied: comm>=0.1.3 in /opt/conda/lib/python3.10/site-packages (from ipywidgets->-r requirements.txt (line 3)) (0.1.4)\u001b[0m\n",
      "\u001b[34mRequirement already satisfied: ipython>=6.1.0 in /opt/conda/lib/python3.10/site-packages (from ipywidgets->-r requirements.txt (line 3)) (8.18.1)\u001b[0m\n",
      "\u001b[34mRequirement already satisfied: traitlets>=4.3.1 in /opt/conda/lib/python3.10/site-packages (from ipywidgets->-r requirements.txt (line 3)) (5.14.0)\u001b[0m\n",
      "\u001b[34mCollecting widgetsnbextension~=4.0.10 (from ipywidgets->-r requirements.txt (line 3))\n",
      "  Downloading widgetsnbextension-4.0.10-py3-none-any.whl.metadata (1.6 kB)\u001b[0m\n",
      "\u001b[34mCollecting jupyterlab-widgets~=3.0.10 (from ipywidgets->-r requirements.txt (line 3))\n",
      "  Downloading jupyterlab_widgets-3.0.10-py3-none-any.whl.metadata (4.1 kB)\u001b[0m\n",
      "\u001b[34mRequirement already satisfied: decorator in /opt/conda/lib/python3.10/site-packages (from ipython>=6.1.0->ipywidgets->-r requirements.txt (line 3)) (5.1.1)\u001b[0m\n",
      "\u001b[34mRequirement already satisfied: jedi>=0.16 in /opt/conda/lib/python3.10/site-packages (from ipython>=6.1.0->ipywidgets->-r requirements.txt (line 3)) (0.19.1)\u001b[0m\n",
      "\u001b[34mRequirement already satisfied: matplotlib-inline in /opt/conda/lib/python3.10/site-packages (from ipython>=6.1.0->ipywidgets->-r requirements.txt (line 3)) (0.1.6)\u001b[0m\n",
      "\u001b[34mRequirement already satisfied: prompt-toolkit<3.1.0,>=3.0.41 in /opt/conda/lib/python3.10/site-packages (from ipython>=6.1.0->ipywidgets->-r requirements.txt (line 3)) (3.0.41)\u001b[0m\n",
      "\u001b[34mRequirement already satisfied: pygments>=2.4.0 in /opt/conda/lib/python3.10/site-packages (from ipython>=6.1.0->ipywidgets->-r requirements.txt (line 3)) (2.17.2)\u001b[0m\n",
      "\u001b[34mRequirement already satisfied: stack-data in /opt/conda/lib/python3.10/site-packages (from ipython>=6.1.0->ipywidgets->-r requirements.txt (line 3)) (0.6.2)\u001b[0m\n",
      "\u001b[34mRequirement already satisfied: exceptiongroup in /opt/conda/lib/python3.10/site-packages (from ipython>=6.1.0->ipywidgets->-r requirements.txt (line 3)) (1.2.0)\u001b[0m\n",
      "\u001b[34mRequirement already satisfied: pexpect>4.3 in /opt/conda/lib/python3.10/site-packages (from ipython>=6.1.0->ipywidgets->-r requirements.txt (line 3)) (4.8.0)\u001b[0m\n",
      "\u001b[34mRequirement already satisfied: charset-normalizer<4,>=2 in /opt/conda/lib/python3.10/site-packages (from requests<3.0.0,>=2.4.0->opensearch-py->-r requirements.txt (line 2)) (3.1.0)\u001b[0m\n",
      "\u001b[34mRequirement already satisfied: idna<4,>=2.5 in /opt/conda/lib/python3.10/site-packages (from requests<3.0.0,>=2.4.0->opensearch-py->-r requirements.txt (line 2)) (3.4)\u001b[0m\n",
      "\u001b[34mRequirement already satisfied: parso<0.9.0,>=0.8.3 in /opt/conda/lib/python3.10/site-packages (from jedi>=0.16->ipython>=6.1.0->ipywidgets->-r requirements.txt (line 3)) (0.8.3)\u001b[0m\n",
      "\u001b[34mRequirement already satisfied: ptyprocess>=0.5 in /opt/conda/lib/python3.10/site-packages (from pexpect>4.3->ipython>=6.1.0->ipywidgets->-r requirements.txt (line 3)) (0.7.0)\u001b[0m\n",
      "\u001b[34mRequirement already satisfied: wcwidth in /opt/conda/lib/python3.10/site-packages (from prompt-toolkit<3.1.0,>=3.0.41->ipython>=6.1.0->ipywidgets->-r requirements.txt (line 3)) (0.2.12)\u001b[0m\n",
      "\u001b[34mRequirement already satisfied: executing>=1.2.0 in /opt/conda/lib/python3.10/site-packages (from stack-data->ipython>=6.1.0->ipywidgets->-r requirements.txt (line 3)) (2.0.1)\u001b[0m\n",
      "\u001b[34mRequirement already satisfied: asttokens>=2.1.0 in /opt/conda/lib/python3.10/site-packages (from stack-data->ipython>=6.1.0->ipywidgets->-r requirements.txt (line 3)) (2.4.1)\u001b[0m\n",
      "\u001b[34mRequirement already satisfied: pure-eval in /opt/conda/lib/python3.10/site-packages (from stack-data->ipython>=6.1.0->ipywidgets->-r requirements.txt (line 3)) (0.2.2)\u001b[0m\n",
      "\u001b[34mDownloading boto3-1.34.62-py3-none-any.whl (139 kB)\n",
      "   ━━━━━━━━━━━━━━━━━━━━━━━━━━━━━━━━━━━━━━━━ 139.3/139.3 kB 8.4 MB/s eta 0:00:00\u001b[0m\n",
      "\u001b[34mDownloading opencv_python_headless-4.9.0.80-cp37-abi3-manylinux_2_17_x86_64.manylinux2014_x86_64.whl (49.6 MB)\u001b[0m\n",
      "\u001b[34m   ━━━━━━━━━━━━━━━━━━━━━━━━━━━━━━━━━━━━━━━━ 49.6/49.6 MB 81.1 MB/s eta 0:00:00\u001b[0m\n",
      "\u001b[34mDownloading opensearch_py-2.4.2-py2.py3-none-any.whl (258 kB)\n",
      "   ━━━━━━━━━━━━━━━━━━━━━━━━━━━━━━━━━━━━━━━━ 258.6/258.6 kB 95.1 MB/s eta 0:00:00\u001b[0m\n",
      "\u001b[34mDownloading ipywidgets-8.1.2-py3-none-any.whl (139 kB)\n",
      "   ━━━━━━━━━━━━━━━━━━━━━━━━━━━━━━━━━━━━━━━━ 139.4/139.4 kB 70.6 MB/s eta 0:00:00\u001b[0m\n",
      "\u001b[34mDownloading botocore-1.34.69-py3-none-any.whl (12.0 MB)\n",
      "   ━━━━━━━━━━━━━━━━━━━━━━━━━━━━━━━━━━━━━━━━ 12.0/12.0 MB 170.4 MB/s eta 0:00:00\u001b[0m\n",
      "\u001b[34mDownloading jupyterlab_widgets-3.0.10-py3-none-any.whl (215 kB)\n",
      "   ━━━━━━━━━━━━━━━━━━━━━━━━━━━━━━━━━━━━━━━━ 215.0/215.0 kB 96.7 MB/s eta 0:00:00\u001b[0m\n",
      "\u001b[34mDownloading s3transfer-0.10.1-py3-none-any.whl (82 kB)\n",
      "   ━━━━━━━━━━━━━━━━━━━━━━━━━━━━━━━━━━━━━━━━ 82.2/82.2 kB 45.9 MB/s eta 0:00:00\u001b[0m\n",
      "\u001b[34mDownloading widgetsnbextension-4.0.10-py3-none-any.whl (2.3 MB)\n",
      "   ━━━━━━━━━━━━━━━━━━━━━━━━━━━━━━━━━━━━━━━━ 2.3/2.3 MB 185.1 MB/s eta 0:00:00\u001b[0m\n",
      "\u001b[34mInstalling collected packages: widgetsnbextension, opencv-python-headless, jupyterlab-widgets, opensearch-py, botocore, s3transfer, ipywidgets, boto3\u001b[0m\n",
      "\u001b[34m  Attempting uninstall: botocore\n",
      "    Found existing installation: botocore 1.32.7\n",
      "    Uninstalling botocore-1.32.7:\n",
      "      Successfully uninstalled botocore-1.32.7\u001b[0m\n",
      "\u001b[34m  Attempting uninstall: s3transfer\n",
      "    Found existing installation: s3transfer 0.8.0\n",
      "    Uninstalling s3transfer-0.8.0:\n",
      "      Successfully uninstalled s3transfer-0.8.0\n",
      "  Attempting uninstall: boto3\n",
      "    Found existing installation: boto3 1.29.7\n",
      "    Uninstalling boto3-1.29.7:\n",
      "      Successfully uninstalled boto3-1.29.7\u001b[0m\n",
      "\u001b[34mERROR: pip's dependency resolver does not currently take into account all the packages that are installed. This behaviour is the source of the following dependency conflicts.\u001b[0m\n",
      "\u001b[34mawscli 1.30.7 requires botocore==1.32.7, but you have botocore 1.34.69 which is incompatible.\u001b[0m\n",
      "\u001b[34mawscli 1.30.7 requires s3transfer<0.9.0,>=0.8.0, but you have s3transfer 0.10.1 which is incompatible.\u001b[0m\n",
      "\u001b[34mSuccessfully installed boto3-1.34.62 botocore-1.34.69 ipywidgets-8.1.2 jupyterlab-widgets-3.0.10 opencv-python-headless-4.9.0.80 opensearch-py-2.4.2 s3transfer-0.10.1 widgetsnbextension-4.0.10\u001b[0m\n",
      "\u001b[34mWARNING: Running pip as the 'root' user can result in broken permissions and conflicting behaviour with the system package manager. It is recommended to use a virtual environment instead: https://pip.pypa.io/warnings/venv\u001b[0m\n",
      "\u001b[34m[notice] A new release of pip is available: 23.3.1 -> 24.0\u001b[0m\n",
      "\u001b[34m[notice] To update, run: pip install --upgrade pip\u001b[0m\n",
      "\u001b[34msagemaker.config INFO - Not applying SDK defaults from location: /etc/xdg/sagemaker/config.yaml\u001b[0m\n",
      "\u001b[34msagemaker.config INFO - Not applying SDK defaults from location: /root/.config/sagemaker/config.yaml\u001b[0m\n",
      "\u001b[34mcheck video files ...\u001b[0m\n",
      "\u001b[34mprocess begin ...\u001b[0m\n",
      "\u001b[34mprocess file: /opt/ml/processing/input/videos/AWS_España_Ya disponible.mp4...\u001b[0m\n",
      "\u001b[34mframe rate is 23.976023976023978 per second\u001b[0m\n",
      "\u001b[34mnumber of frames: 27\u001b[0m\n",
      "\u001b[34mupload frames to s3 bucket...\u001b[0m\n",
      "\u001b[34mIndexed 44 documents\u001b[0m\n",
      "\u001b[34m44 record succeeded, [] failed ...\u001b[0m\n",
      "\u001b[34mprocess file: /opt/ml/processing/input/videos/AdobeStock_161973588.mov...\u001b[0m\n",
      "\u001b[34mframe rate is 29.97002997002997 per second\u001b[0m\n",
      "\u001b[34mnumber of frames: 11\u001b[0m\n",
      "\u001b[34mupload frames to s3 bucket...\u001b[0m\n",
      "\u001b[34mIndexed 22 documents\u001b[0m\n",
      "\u001b[34m22 record succeeded, [] failed ...\u001b[0m\n",
      "\u001b[34mprocess file: /opt/ml/processing/input/videos/aws-picchu-edit-rendered.mp4...\u001b[0m\n",
      "\u001b[34mframe rate is 24.0 per second\u001b[0m\n",
      "\u001b[34mnumber of frames: 54\u001b[0m\n",
      "\u001b[34mupload frames to s3 bucket...\u001b[0m\n",
      "\u001b[34mIndexed 54 documents\u001b[0m\n",
      "\u001b[34m54 record succeeded, [] failed ...\u001b[0m\n",
      "\u001b[34mprocess file: /opt/ml/processing/input/videos/RaceToTheCloud_444_PR_M_040623-FINAL_264.mp4...\u001b[0m\n",
      "\u001b[34mframe rate is 24.0 per second\u001b[0m\n",
      "\u001b[34mnumber of frames: 120\u001b[0m\n",
      "\u001b[34mupload frames to s3 bucket...\u001b[0m\n",
      "\u001b[34mIndexed 222 documents\u001b[0m\n",
      "\u001b[34m222 record succeeded, [] failed ...\u001b[0m\n",
      "\u001b[34mprocess file: /opt/ml/processing/input/videos/AdobeStock_384597062.mov...\u001b[0m\n",
      "\u001b[34mframe rate is 59.96002664890073 per second\u001b[0m\n",
      "\u001b[34mnumber of frames: 5\u001b[0m\n",
      "\u001b[34mupload frames to s3 bucket...\u001b[0m\n",
      "\u001b[34mIndexed 10 documents\u001b[0m\n",
      "\u001b[34m10 record succeeded, [] failed ...\u001b[0m\n",
      "\u001b[34mprocess file: /opt/ml/processing/input/videos/westiepoo.mov...\u001b[0m\n",
      "\u001b[34mframe rate is 25.0 per second\u001b[0m\n",
      "\u001b[34mnumber of frames: 1\u001b[0m\n",
      "\u001b[34mupload frames to s3 bucket...\u001b[0m\n",
      "\u001b[34mIndexed 2 documents\u001b[0m\n",
      "\u001b[34m2 record succeeded, [] failed ...\u001b[0m\n",
      "\u001b[34mvalidate query ...\u001b[0m\n",
      "\u001b[34mThis image depicts a scene from a movie or TV show. It shows two women sitting inside a car. One woman, wearing a yellow sweater, appears surprised or concerned, while the other woman, with darker hair, seems to be reacting with an intense or emotional expression. The setting appears to be the interior of a vehicle, likely during a tense or dramatic moment in the story.\u001b[0m\n",
      "\u001b[34mThe image depicts a scene from a movie or TV show. It shows two people sitting inside a car. One person, possibly a woman with long dark hair, appears to be shouting or expressing strong emotion through her facial expression and open mouth. The other person, with a yellow-colored skin or clothing, is visible in the foreground but their face is not clearly shown.\u001b[0m\n",
      "\u001b[34mThe image depicts two high-performance sports cars, one in a bright orange color and the other in a deep blue shade. They appear to be parked in an indoor or covered garage setting, likely showcasing their sleek and powerful designs. The scene captures the allure and excitement associated with luxury and exotic automobiles.\u001b[0m\n",
      "\u001b[34mprocessing complete......\u001b[0m\n",
      "\n"
     ]
    }
   ],
   "source": [
    "from sagemaker.pytorch.processing import PyTorchProcessor\n",
    "from sagemaker.processing import ProcessingInput, ProcessingOutput\n",
    "from sagemaker import get_execution_role\n",
    "\n",
    "#Initialize the PyTorchProcessor\n",
    "pytorch_processor = PyTorchProcessor(\n",
    "    framework_version='2.0',\n",
    "    py_version=\"py310\",\n",
    "    role=get_execution_role(),\n",
    "    instance_type='ml.g4dn.4xlarge',\n",
    "    instance_count=1,\n",
    "    base_job_name=name_from_base(prefix)\n",
    ")\n",
    "\n",
    "#Run the processing job\n",
    "pytorch_processor.run(\n",
    "    code='video_ingestion.py',\n",
    "    source_dir='code_dir',\n",
    "    arguments=[\"--host\", host, \"--index_name\", index_name, \n",
    "              \"--prefix\", prefix, \"--bucket\", bucket],\n",
    "    inputs=[\n",
    "        ProcessingInput(\n",
    "            input_name='videos',\n",
    "            source=s3_video_dir,\n",
    "            destination='/opt/ml/processing/input/videos'\n",
    "        )\n",
    "    ]\n",
    ")"
   ]
  },
  {
   "cell_type": "markdown",
   "id": "d6137b57-3a7d-422c-8c7a-47fc0fde3afa",
   "metadata": {},
   "source": [
    "### > Local ingestion testing"
   ]
  },
  {
   "cell_type": "code",
   "execution_count": 2,
   "id": "bec1c904-c52a-4e37-85b6-2a47c6e70c59",
   "metadata": {},
   "outputs": [],
   "source": [
    "!rm -rf `find -type d -name .ipynb_checkpoints`"
   ]
  },
  {
   "cell_type": "code",
   "execution_count": 3,
   "id": "d36e1305-8bf5-4b57-bb6e-bf33c14e291a",
   "metadata": {},
   "outputs": [],
   "source": [
    "try:\n",
    "    entries = os.scandir(\"dog\")#video_dir)\n",
    "except FileNotFoundError as e:\n",
    "    print(f\"Could not scan folder: {e}\")\n",
    "    raise\n",
    "except OSError as e: \n",
    "    print(f\"Could not scan folder: {e}\")\n",
    "    raise"
   ]
  },
  {
   "cell_type": "markdown",
   "id": "c9bd041e-886f-4181-a6fa-b42da0a9bee9",
   "metadata": {},
   "source": [
    "### > Process videos\n",
    "\n",
    "The processing include following steps:\n",
    "1. extract key frames from video\n",
    "2. upload to s3 and build the index\n",
    "3. ingest index to opensearch"
   ]
  },
  {
   "cell_type": "code",
   "execution_count": 4,
   "id": "edb56e2f-8a8f-4139-b0d2-3c2319830c13",
   "metadata": {},
   "outputs": [
    {
     "name": "stderr",
     "output_type": "stream",
     "text": [
      "0it [00:00, ?it/s]"
     ]
    },
    {
     "name": "stdout",
     "output_type": "stream",
     "text": [
      "process file: dog/westiepoo.mov...\n",
      "frame rate is 25.0 per second\n",
      "number of frames: 1\n",
      "upload frames to s3 bucket...\n"
     ]
    },
    {
     "name": "stderr",
     "output_type": "stream",
     "text": [
      "1it [00:06,  6.61s/it]"
     ]
    },
    {
     "name": "stdout",
     "output_type": "stream",
     "text": [
      "Indexed 2 documents\n"
     ]
    },
    {
     "name": "stderr",
     "output_type": "stream",
     "text": [
      "\n"
     ]
    }
   ],
   "source": [
    "from code_dir.helper import extract_key_frames, upload_frames\n",
    "from code_dir.opensearch_util import bulk_index_ingestion\n",
    "from tqdm import tqdm\n",
    "\n",
    "for entry in tqdm(entries):\n",
    "    try:\n",
    "        if entry.is_file() and entry.path.endswith((\".mp4\", \".mkv\", \".mov\")): \n",
    "\n",
    "            print(f\"process file: {entry.path}...\")\n",
    "            # extract key frames from video\n",
    "            output_dir, fps = extract_key_frames(entry.path)\n",
    "            print(f\"frame rate is {fps} per second\")\n",
    "\n",
    "            print(f\"number of frames: {len(os.listdir(output_dir))}\")\n",
    "            # upload fames to s3\n",
    "            frames = upload_frames(output_dir, bucket, prefix, entry.path.split('/')[-1], fps)\n",
    "            print(f\"upload frames to s3 bucket...\")\n",
    "\n",
    "            # ingest the index file into opensearch\n",
    "            sucess, failed = bulk_index_ingestion(host, index_name, frames)\n",
    "            \n",
    "    except OSError as e: \n",
    "        print(f\"Could not read entry {entry.path}: {e}\")"
   ]
  },
  {
   "cell_type": "code",
   "execution_count": 5,
   "id": "eb159d72-ea71-4884-9179-988d694d9332",
   "metadata": {},
   "outputs": [
    {
     "data": {
      "image/jpeg": "[encoded data removed]",
      "text/plain": [
       "<IPython.core.display.Image object>"
      ]
     },
     "metadata": {},
     "output_type": "display_data"
    }
   ],
   "source": [
    "import os\n",
    "import random\n",
    "from IPython.display import display, Image\n",
    "\n",
    "# Get a list of all image files in the folder\n",
    "image_files = [f for f in os.listdir(output_dir) if f.endswith(('.jpg', '.png', '.gif'))]\n",
    "\n",
    "# Display the sampled images\n",
    "for image_file in image_files:\n",
    "    image_path = os.path.join(output_dir, image_file)\n",
    "    display(Image(filename=image_path))"
   ]
  },
  {
   "cell_type": "markdown",
   "id": "e28686d8-f9cf-47cb-bc08-b3e11a51000c",
   "metadata": {},
   "source": [
    "### > Test Multi-modal text search"
   ]
  },
  {
   "cell_type": "code",
   "execution_count": 25,
   "id": "c3470424-13e3-4ece-ab19-9816f60ff22a",
   "metadata": {},
   "outputs": [],
   "source": [
    "# build opensearch query\n",
    "query = {\n",
    "    \"size\": 10,\n",
    "    \"query\":{\n",
    "        \"knn\": {\n",
    "        \"multimodal_vector\": {\n",
    "            \"vector\": [],\n",
    "            \"k\": 5\n",
    "        }\n",
    "        }\n",
    "    },\n",
    "    \"_source\": [\"video\", \n",
    "                \"bucket\", \n",
    "                \"video_key\" , \n",
    "                \"frame_key\", \n",
    "                \"caption\", \n",
    "                \"timestamp\", \n",
    "                \"embedding_type\"]\n",
    "\n",
    "    }"
   ]
  },
  {
   "cell_type": "code",
   "execution_count": 46,
   "id": "9b23ed00-2e7d-4d05-af08-2778613ac344",
   "metadata": {},
   "outputs": [
    {
     "name": "stderr",
     "output_type": "stream",
     "text": [
      "INFO:opensearch:POST https://9bmvaevz935xeno6njp4.us-west-2.aoss.amazonaws.com:443/mm-search-2024-03-22-22-01-30-089/_search [status:200 request:0.101s]\n"
     ]
    },
    {
     "data": {
      "application/vnd.jupyter.widget-view+json": {
       "model_id": "f98936f0ef614b638a8cadb112850877",
       "version_major": 2,
       "version_minor": 0
      },
      "text/plain": [
       "HBox(children=(VBox(children=(Label(value='From video: RaceToTh\\neCloud_444_PR_M_0406\\n23-FINAL_264.mp4 at\\nti…"
      ]
     },
     "metadata": {},
     "output_type": "display_data"
    }
   ],
   "source": [
    "from code_dir.helper import opensearch_query, render_search_result, get_embedding, encode_image_to_base64\n",
    "from IPython.display import display, clear_output\n",
    "\n",
    "\n",
    "query[\"query\"][\"knn\"][\"multimodal_vector\"][\"vector\"] = get_embedding(text_description=\"Show me a race car driver\")\n",
    "        \n",
    "results = opensearch_query(query,\n",
    "                            host=host,\n",
    "                           index_name=index_name)\n",
    "\n",
    "display(render_search_result(results))"
   ]
  },
  {
   "cell_type": "markdown",
   "id": "3036b9fe-4775-4fcd-8d94-7dfb604f51a8",
   "metadata": {},
   "source": [
    "### > Test MM mage Search"
   ]
  },
  {
   "cell_type": "code",
   "execution_count": 27,
   "id": "bd9720dc-cb97-4086-babf-d2c983be108b",
   "metadata": {},
   "outputs": [
    {
     "name": "stderr",
     "output_type": "stream",
     "text": [
      "INFO:opensearch:POST https://9bmvaevz935xeno6njp4.us-west-2.aoss.amazonaws.com:443/mm-search-2024-03-21-17-08-30-583/_search [status:200 request:0.087s]\n"
     ]
    },
    {
     "data": {
      "application/vnd.jupyter.widget-view+json": {
       "model_id": "e6290b7539434f63ac9cbd5c81963722",
       "version_major": 2,
       "version_minor": 0
      },
      "text/plain": [
       "HBox(children=(VBox(children=(Label(value='From video:\\nwestiepoo.mov at\\ntime: 0.00\\nScore: 68.36%'), Image(v…"
      ]
     },
     "metadata": {},
     "output_type": "display_data"
    }
   ],
   "source": [
    "image_base64 = encode_image_to_base64(\"test-image.jpg\")\n",
    "\n",
    "query[\"query\"][\"knn\"][\"multimodal_vector\"][\"vector\"] = get_embedding(image_base64=image_base64)\n",
    "        \n",
    "results = opensearch_query(query, \n",
    "                           host = host,\n",
    "                           index_name=index_name)\n",
    "\n",
    "display(render_search_result(results))"
   ]
  },
  {
   "cell_type": "markdown",
   "id": "a9eaed7b-1dc3-4792-88fe-aa19dc09b7d1",
   "metadata": {},
   "source": [
    "### > Interactive UI\n",
    "\n",
    "Have fun.....!\n",
    "\n",
    "Here are some sample prompts:\n",
    "\n",
    "- cute dog running on grass\n",
    "- flying squiral\n",
    "- a bunny flying a kite\n",
    "- Game of thrones"
   ]
  },
  {
   "cell_type": "code",
   "execution_count": 28,
   "id": "3d7f84e1-ad79-4291-b544-e450b0bcd7aa",
   "metadata": {},
   "outputs": [],
   "source": [
    "import ipywidgets as ipw\n",
    "class ChatUX:\n",
    "    \"\"\" A chat UX using IPWidgets\n",
    "    \"\"\"\n",
    "    def __init__(self, qa):\n",
    "        self.qa = qa\n",
    "        self.name = None\n",
    "        self.b=None\n",
    "        self.out = ipw.Output()\n",
    "        self.session_id = None\n",
    "\n",
    "    def start_chat(self):\n",
    "        print(\"Let's chat!\")\n",
    "        display(self.out)\n",
    "        self.chat(None)\n",
    "\n",
    "    def chat(self, _):\n",
    "        if self.name is None:\n",
    "            prompt = \"\"\n",
    "        else:\n",
    "            prompt = self.name.value\n",
    "        if 'q' == prompt or 'quit' == prompt or 'Q' == prompt:\n",
    "            print(\"Thank you , that was a nice chat !!\")\n",
    "            return\n",
    "        elif len(prompt) > 0:\n",
    "            with self.out:\n",
    "                thinking = ipw.Label(value=f\"Thinking...\")\n",
    "                display(thinking)\n",
    "                try:\n",
    "                    query[\"query\"][\"knn\"][\"multimodal_vector\"][\"vector\"] = get_embedding(text_description=prompt)\n",
    "                    results = opensearch_query(query,\n",
    "                                               host=host,\n",
    "                                               index_name=index_name)\n",
    "\n",
    "                    output_results = render_search_result(results)\n",
    "                except Exception as e:\n",
    "                    print(e)\n",
    "                    output_results = \"No answer\"\n",
    "\n",
    "                thinking.value=\"\"\n",
    "                print(\"AI:\")\n",
    "                display(output_results)\n",
    "                self.name.disabled = True\n",
    "                self.b.disabled = True\n",
    "                self.name = None\n",
    "\n",
    "        if self.name is None:\n",
    "            with self.out:\n",
    "                self.name = ipw.Text(description=\"You: \", placeholder='q to quit')\n",
    "                self.b = ipw.Button(description=\"Send\")\n",
    "                self.b.on_click(self.chat)\n",
    "                display(ipw.Box(children=(self.name, self.b)))"
   ]
  },
  {
   "cell_type": "code",
   "execution_count": 29,
   "id": "e4b50c6e-8adf-44e3-8402-0ce788e0199f",
   "metadata": {},
   "outputs": [
    {
     "name": "stdout",
     "output_type": "stream",
     "text": [
      "Let's chat!\n"
     ]
    },
    {
     "data": {
      "application/vnd.jupyter.widget-view+json": {
       "model_id": "e3253500e23f4b7987c42fdfe2a1e13c",
       "version_major": 2,
       "version_minor": 0
      },
      "text/plain": [
       "Output()"
      ]
     },
     "metadata": {},
     "output_type": "display_data"
    }
   ],
   "source": [
    "agent_runtime_client = boto3.client('bedrock-runtime')\n",
    "\n",
    "chat = ChatUX(agent_runtime_client)\n",
    "chat.start_chat()"
   ]
  },
  {
   "cell_type": "code",
   "execution_count": null,
   "id": "66945f45-cc65-4e01-9ff7-ac1f07448088",
   "metadata": {},
   "outputs": [],
   "source": []
  }
 ],
 "metadata": {
  "kernelspec": {
   "display_name": "Python 3 (ipykernel)",
   "language": "python",
   "name": "python3"
  },
  "language_info": {
   "codemirror_mode": {
    "name": "ipython",
    "version": 3
   },
   "file_extension": ".py",
   "mimetype": "text/x-python",
   "name": "python",
   "nbconvert_exporter": "python",
   "pygments_lexer": "ipython3",
   "version": "3.10.13"
  }
 },
 "nbformat": 4,
 "nbformat_minor": 5
}
